{
 "cells": [
  {
   "cell_type": "code",
   "execution_count": 1,
   "id": "1b9e977f",
   "metadata": {},
   "outputs": [],
   "source": [
    "import numpy as np\n",
    "import pandas as pd\n",
    "import matplotlib.pyplot as plt"
   ]
  },
  {
   "cell_type": "markdown",
   "id": "df231d5a",
   "metadata": {},
   "source": [
    "# 3.1 Data Preprocess"
   ]
  },
  {
   "cell_type": "code",
   "execution_count": 2,
   "id": "1be9c06d",
   "metadata": {},
   "outputs": [],
   "source": [
    "original_data = pd.read_csv(\"OnlineNewsPopularity.csv\")\n",
    "col_names = original_data.columns.tolist()\n",
    "for index,value in enumerate(col_names):\n",
    "    col_names[index]= value.replace(\" \",\"\")\n",
    "    \n",
    "original_data.columns=col_names "
   ]
  },
  {
   "cell_type": "code",
   "execution_count": 3,
   "id": "6ba80d55",
   "metadata": {},
   "outputs": [],
   "source": [
    "drop_list = ['url',\n",
    "             'timedelta',\n",
    "             'n_non_stop_words',\n",
    "             'n_non_stop_unique_tokens',\n",
    "             'weekday_is_monday',\n",
    "             'weekday_is_tuesday',\n",
    "             'weekday_is_wednesday', \n",
    "             'weekday_is_thursday', \n",
    "             'weekday_is_friday',\n",
    "             'weekday_is_saturday', \n",
    "             'weekday_is_sunday',\n",
    "             'kw_max_max',\n",
    "             'kw_max_min',\n",
    "             'kw_max_avg',\n",
    "             'self_reference_min_shares',\n",
    "             'self_reference_max_shares']\n",
    "extracted_data = original_data.drop(labels=drop_list, axis = 1)"
   ]
  },
  {
   "cell_type": "code",
   "execution_count": 4,
   "id": "08ebb296",
   "metadata": {},
   "outputs": [
    {
     "data": {
      "text/html": [
       "<div>\n",
       "<style scoped>\n",
       "    .dataframe tbody tr th:only-of-type {\n",
       "        vertical-align: middle;\n",
       "    }\n",
       "\n",
       "    .dataframe tbody tr th {\n",
       "        vertical-align: top;\n",
       "    }\n",
       "\n",
       "    .dataframe thead th {\n",
       "        text-align: right;\n",
       "    }\n",
       "</style>\n",
       "<table border=\"1\" class=\"dataframe\">\n",
       "  <thead>\n",
       "    <tr style=\"text-align: right;\">\n",
       "      <th></th>\n",
       "      <th>n_tokens_title</th>\n",
       "      <th>n_tokens_content</th>\n",
       "      <th>n_unique_tokens</th>\n",
       "      <th>num_hrefs</th>\n",
       "      <th>num_self_hrefs</th>\n",
       "      <th>num_imgs</th>\n",
       "      <th>num_videos</th>\n",
       "      <th>average_token_length</th>\n",
       "      <th>num_keywords</th>\n",
       "      <th>data_channel_is_lifestyle</th>\n",
       "      <th>...</th>\n",
       "      <th>min_positive_polarity</th>\n",
       "      <th>max_positive_polarity</th>\n",
       "      <th>avg_negative_polarity</th>\n",
       "      <th>min_negative_polarity</th>\n",
       "      <th>max_negative_polarity</th>\n",
       "      <th>title_subjectivity</th>\n",
       "      <th>title_sentiment_polarity</th>\n",
       "      <th>abs_title_subjectivity</th>\n",
       "      <th>abs_title_sentiment_polarity</th>\n",
       "      <th>shares</th>\n",
       "    </tr>\n",
       "  </thead>\n",
       "  <tbody>\n",
       "    <tr>\n",
       "      <th>count</th>\n",
       "      <td>39644.000000</td>\n",
       "      <td>39644.000000</td>\n",
       "      <td>39644.000000</td>\n",
       "      <td>39644.000000</td>\n",
       "      <td>39644.000000</td>\n",
       "      <td>39644.000000</td>\n",
       "      <td>39644.000000</td>\n",
       "      <td>39644.000000</td>\n",
       "      <td>39644.000000</td>\n",
       "      <td>39644.000000</td>\n",
       "      <td>...</td>\n",
       "      <td>39644.000000</td>\n",
       "      <td>39644.000000</td>\n",
       "      <td>39644.000000</td>\n",
       "      <td>39644.000000</td>\n",
       "      <td>39644.000000</td>\n",
       "      <td>39644.000000</td>\n",
       "      <td>39644.000000</td>\n",
       "      <td>39644.000000</td>\n",
       "      <td>39644.000000</td>\n",
       "      <td>39644.000000</td>\n",
       "    </tr>\n",
       "    <tr>\n",
       "      <th>mean</th>\n",
       "      <td>10.398749</td>\n",
       "      <td>546.514731</td>\n",
       "      <td>0.548216</td>\n",
       "      <td>10.883690</td>\n",
       "      <td>3.293638</td>\n",
       "      <td>4.544143</td>\n",
       "      <td>1.249874</td>\n",
       "      <td>4.548239</td>\n",
       "      <td>7.223767</td>\n",
       "      <td>0.052946</td>\n",
       "      <td>...</td>\n",
       "      <td>0.095446</td>\n",
       "      <td>0.756728</td>\n",
       "      <td>-0.259524</td>\n",
       "      <td>-0.521944</td>\n",
       "      <td>-0.107500</td>\n",
       "      <td>0.282353</td>\n",
       "      <td>0.071425</td>\n",
       "      <td>0.341843</td>\n",
       "      <td>0.156064</td>\n",
       "      <td>3395.380184</td>\n",
       "    </tr>\n",
       "    <tr>\n",
       "      <th>std</th>\n",
       "      <td>2.114037</td>\n",
       "      <td>471.107508</td>\n",
       "      <td>3.520708</td>\n",
       "      <td>11.332017</td>\n",
       "      <td>3.855141</td>\n",
       "      <td>8.309434</td>\n",
       "      <td>4.107855</td>\n",
       "      <td>0.844406</td>\n",
       "      <td>1.909130</td>\n",
       "      <td>0.223929</td>\n",
       "      <td>...</td>\n",
       "      <td>0.071315</td>\n",
       "      <td>0.247786</td>\n",
       "      <td>0.127726</td>\n",
       "      <td>0.290290</td>\n",
       "      <td>0.095373</td>\n",
       "      <td>0.324247</td>\n",
       "      <td>0.265450</td>\n",
       "      <td>0.188791</td>\n",
       "      <td>0.226294</td>\n",
       "      <td>11626.950749</td>\n",
       "    </tr>\n",
       "    <tr>\n",
       "      <th>min</th>\n",
       "      <td>2.000000</td>\n",
       "      <td>0.000000</td>\n",
       "      <td>0.000000</td>\n",
       "      <td>0.000000</td>\n",
       "      <td>0.000000</td>\n",
       "      <td>0.000000</td>\n",
       "      <td>0.000000</td>\n",
       "      <td>0.000000</td>\n",
       "      <td>1.000000</td>\n",
       "      <td>0.000000</td>\n",
       "      <td>...</td>\n",
       "      <td>0.000000</td>\n",
       "      <td>0.000000</td>\n",
       "      <td>-1.000000</td>\n",
       "      <td>-1.000000</td>\n",
       "      <td>-1.000000</td>\n",
       "      <td>0.000000</td>\n",
       "      <td>-1.000000</td>\n",
       "      <td>0.000000</td>\n",
       "      <td>0.000000</td>\n",
       "      <td>1.000000</td>\n",
       "    </tr>\n",
       "    <tr>\n",
       "      <th>25%</th>\n",
       "      <td>9.000000</td>\n",
       "      <td>246.000000</td>\n",
       "      <td>0.470870</td>\n",
       "      <td>4.000000</td>\n",
       "      <td>1.000000</td>\n",
       "      <td>1.000000</td>\n",
       "      <td>0.000000</td>\n",
       "      <td>4.478404</td>\n",
       "      <td>6.000000</td>\n",
       "      <td>0.000000</td>\n",
       "      <td>...</td>\n",
       "      <td>0.050000</td>\n",
       "      <td>0.600000</td>\n",
       "      <td>-0.328383</td>\n",
       "      <td>-0.700000</td>\n",
       "      <td>-0.125000</td>\n",
       "      <td>0.000000</td>\n",
       "      <td>0.000000</td>\n",
       "      <td>0.166667</td>\n",
       "      <td>0.000000</td>\n",
       "      <td>946.000000</td>\n",
       "    </tr>\n",
       "    <tr>\n",
       "      <th>50%</th>\n",
       "      <td>10.000000</td>\n",
       "      <td>409.000000</td>\n",
       "      <td>0.539226</td>\n",
       "      <td>8.000000</td>\n",
       "      <td>3.000000</td>\n",
       "      <td>1.000000</td>\n",
       "      <td>0.000000</td>\n",
       "      <td>4.664082</td>\n",
       "      <td>7.000000</td>\n",
       "      <td>0.000000</td>\n",
       "      <td>...</td>\n",
       "      <td>0.100000</td>\n",
       "      <td>0.800000</td>\n",
       "      <td>-0.253333</td>\n",
       "      <td>-0.500000</td>\n",
       "      <td>-0.100000</td>\n",
       "      <td>0.150000</td>\n",
       "      <td>0.000000</td>\n",
       "      <td>0.500000</td>\n",
       "      <td>0.000000</td>\n",
       "      <td>1400.000000</td>\n",
       "    </tr>\n",
       "    <tr>\n",
       "      <th>75%</th>\n",
       "      <td>12.000000</td>\n",
       "      <td>716.000000</td>\n",
       "      <td>0.608696</td>\n",
       "      <td>14.000000</td>\n",
       "      <td>4.000000</td>\n",
       "      <td>4.000000</td>\n",
       "      <td>1.000000</td>\n",
       "      <td>4.854839</td>\n",
       "      <td>9.000000</td>\n",
       "      <td>0.000000</td>\n",
       "      <td>...</td>\n",
       "      <td>0.100000</td>\n",
       "      <td>1.000000</td>\n",
       "      <td>-0.186905</td>\n",
       "      <td>-0.300000</td>\n",
       "      <td>-0.050000</td>\n",
       "      <td>0.500000</td>\n",
       "      <td>0.150000</td>\n",
       "      <td>0.500000</td>\n",
       "      <td>0.250000</td>\n",
       "      <td>2800.000000</td>\n",
       "    </tr>\n",
       "    <tr>\n",
       "      <th>max</th>\n",
       "      <td>23.000000</td>\n",
       "      <td>8474.000000</td>\n",
       "      <td>701.000000</td>\n",
       "      <td>304.000000</td>\n",
       "      <td>116.000000</td>\n",
       "      <td>128.000000</td>\n",
       "      <td>91.000000</td>\n",
       "      <td>8.041534</td>\n",
       "      <td>10.000000</td>\n",
       "      <td>1.000000</td>\n",
       "      <td>...</td>\n",
       "      <td>1.000000</td>\n",
       "      <td>1.000000</td>\n",
       "      <td>0.000000</td>\n",
       "      <td>0.000000</td>\n",
       "      <td>0.000000</td>\n",
       "      <td>1.000000</td>\n",
       "      <td>1.000000</td>\n",
       "      <td>0.500000</td>\n",
       "      <td>1.000000</td>\n",
       "      <td>843300.000000</td>\n",
       "    </tr>\n",
       "  </tbody>\n",
       "</table>\n",
       "<p>8 rows × 45 columns</p>\n",
       "</div>"
      ],
      "text/plain": [
       "       n_tokens_title  n_tokens_content  n_unique_tokens     num_hrefs  \\\n",
       "count    39644.000000      39644.000000     39644.000000  39644.000000   \n",
       "mean        10.398749        546.514731         0.548216     10.883690   \n",
       "std          2.114037        471.107508         3.520708     11.332017   \n",
       "min          2.000000          0.000000         0.000000      0.000000   \n",
       "25%          9.000000        246.000000         0.470870      4.000000   \n",
       "50%         10.000000        409.000000         0.539226      8.000000   \n",
       "75%         12.000000        716.000000         0.608696     14.000000   \n",
       "max         23.000000       8474.000000       701.000000    304.000000   \n",
       "\n",
       "       num_self_hrefs      num_imgs    num_videos  average_token_length  \\\n",
       "count    39644.000000  39644.000000  39644.000000          39644.000000   \n",
       "mean         3.293638      4.544143      1.249874              4.548239   \n",
       "std          3.855141      8.309434      4.107855              0.844406   \n",
       "min          0.000000      0.000000      0.000000              0.000000   \n",
       "25%          1.000000      1.000000      0.000000              4.478404   \n",
       "50%          3.000000      1.000000      0.000000              4.664082   \n",
       "75%          4.000000      4.000000      1.000000              4.854839   \n",
       "max        116.000000    128.000000     91.000000              8.041534   \n",
       "\n",
       "       num_keywords  data_channel_is_lifestyle  ...  min_positive_polarity  \\\n",
       "count  39644.000000               39644.000000  ...           39644.000000   \n",
       "mean       7.223767                   0.052946  ...               0.095446   \n",
       "std        1.909130                   0.223929  ...               0.071315   \n",
       "min        1.000000                   0.000000  ...               0.000000   \n",
       "25%        6.000000                   0.000000  ...               0.050000   \n",
       "50%        7.000000                   0.000000  ...               0.100000   \n",
       "75%        9.000000                   0.000000  ...               0.100000   \n",
       "max       10.000000                   1.000000  ...               1.000000   \n",
       "\n",
       "       max_positive_polarity  avg_negative_polarity  min_negative_polarity  \\\n",
       "count           39644.000000           39644.000000           39644.000000   \n",
       "mean                0.756728              -0.259524              -0.521944   \n",
       "std                 0.247786               0.127726               0.290290   \n",
       "min                 0.000000              -1.000000              -1.000000   \n",
       "25%                 0.600000              -0.328383              -0.700000   \n",
       "50%                 0.800000              -0.253333              -0.500000   \n",
       "75%                 1.000000              -0.186905              -0.300000   \n",
       "max                 1.000000               0.000000               0.000000   \n",
       "\n",
       "       max_negative_polarity  title_subjectivity  title_sentiment_polarity  \\\n",
       "count           39644.000000        39644.000000              39644.000000   \n",
       "mean               -0.107500            0.282353                  0.071425   \n",
       "std                 0.095373            0.324247                  0.265450   \n",
       "min                -1.000000            0.000000                 -1.000000   \n",
       "25%                -0.125000            0.000000                  0.000000   \n",
       "50%                -0.100000            0.150000                  0.000000   \n",
       "75%                -0.050000            0.500000                  0.150000   \n",
       "max                 0.000000            1.000000                  1.000000   \n",
       "\n",
       "       abs_title_subjectivity  abs_title_sentiment_polarity         shares  \n",
       "count            39644.000000                  39644.000000   39644.000000  \n",
       "mean                 0.341843                      0.156064    3395.380184  \n",
       "std                  0.188791                      0.226294   11626.950749  \n",
       "min                  0.000000                      0.000000       1.000000  \n",
       "25%                  0.166667                      0.000000     946.000000  \n",
       "50%                  0.500000                      0.000000    1400.000000  \n",
       "75%                  0.500000                      0.250000    2800.000000  \n",
       "max                  0.500000                      1.000000  843300.000000  \n",
       "\n",
       "[8 rows x 45 columns]"
      ]
     },
     "execution_count": 4,
     "metadata": {},
     "output_type": "execute_result"
    }
   ],
   "source": [
    "extracted_data.describe()"
   ]
  },
  {
   "cell_type": "code",
   "execution_count": 5,
   "id": "fb006ac1",
   "metadata": {},
   "outputs": [],
   "source": [
    "# 1st quartile (25%)\n",
    "Q1 = np.percentile(extracted_data[\"shares\"], 25)\n",
    "# 3rd quartile (75%)\n",
    "Q3 = np.percentile(extracted_data[\"shares\"], 75)\n",
    "# Interquartile range (IQR)\n",
    "IQR = Q3 - Q1\n",
    "\n",
    "# outlier step\n",
    "outlier_step = 3 * IQR\n",
    "upper_boundary = Q3 + outlier_step\n",
    "extracted_data = extracted_data[extracted_data[\"shares\"] <= upper_boundary]\n",
    "extracted_data.reset_index(drop=True)\n",
    "\n",
    "extracted_data.loc[extracted_data[\"n_unique_tokens\"]==701,\"n_unique_tokens\"] = 0.701"
   ]
  },
  {
   "cell_type": "markdown",
   "id": "fc2f6989",
   "metadata": {},
   "source": [
    "For classification, a new lable is created based on the number of shares. 1 means good news and 0 means bad news "
   ]
  },
  {
   "cell_type": "code",
   "execution_count": 6,
   "id": "1459d6f0",
   "metadata": {},
   "outputs": [
    {
     "data": {
      "text/plain": [
       "1    20129\n",
       "0    16750\n",
       "Name: popularity, dtype: int64"
      ]
     },
     "execution_count": 6,
     "metadata": {},
     "output_type": "execute_result"
    }
   ],
   "source": [
    "extracted_data[\"popularity\"] = np.where(extracted_data[\"shares\"]>=1300,1,0)\n",
    "\n",
    "final_data = extracted_data.drop(labels=[\"shares\"], axis = 1)\n",
    "\n",
    "final_data[\"popularity\"].value_counts()"
   ]
  },
  {
   "cell_type": "markdown",
   "id": "9b7ee2dc",
   "metadata": {},
   "source": [
    "normalization and split the dataset "
   ]
  },
  {
   "cell_type": "code",
   "execution_count": 7,
   "id": "9f462b8b",
   "metadata": {},
   "outputs": [
    {
     "data": {
      "text/html": [
       "<div>\n",
       "<style scoped>\n",
       "    .dataframe tbody tr th:only-of-type {\n",
       "        vertical-align: middle;\n",
       "    }\n",
       "\n",
       "    .dataframe tbody tr th {\n",
       "        vertical-align: top;\n",
       "    }\n",
       "\n",
       "    .dataframe thead th {\n",
       "        text-align: right;\n",
       "    }\n",
       "</style>\n",
       "<table border=\"1\" class=\"dataframe\">\n",
       "  <thead>\n",
       "    <tr style=\"text-align: right;\">\n",
       "      <th></th>\n",
       "      <th>n_tokens_title</th>\n",
       "      <th>n_tokens_content</th>\n",
       "      <th>n_unique_tokens</th>\n",
       "      <th>num_hrefs</th>\n",
       "      <th>num_self_hrefs</th>\n",
       "      <th>num_imgs</th>\n",
       "      <th>num_videos</th>\n",
       "      <th>average_token_length</th>\n",
       "      <th>num_keywords</th>\n",
       "      <th>data_channel_is_lifestyle</th>\n",
       "      <th>...</th>\n",
       "      <th>min_positive_polarity</th>\n",
       "      <th>max_positive_polarity</th>\n",
       "      <th>avg_negative_polarity</th>\n",
       "      <th>min_negative_polarity</th>\n",
       "      <th>max_negative_polarity</th>\n",
       "      <th>title_subjectivity</th>\n",
       "      <th>title_sentiment_polarity</th>\n",
       "      <th>abs_title_subjectivity</th>\n",
       "      <th>abs_title_sentiment_polarity</th>\n",
       "      <th>popularity</th>\n",
       "    </tr>\n",
       "  </thead>\n",
       "  <tbody>\n",
       "    <tr>\n",
       "      <th>0</th>\n",
       "      <td>0.476190</td>\n",
       "      <td>0.028207</td>\n",
       "      <td>0.663594</td>\n",
       "      <td>0.013158</td>\n",
       "      <td>0.017241</td>\n",
       "      <td>0.007812</td>\n",
       "      <td>0.0</td>\n",
       "      <td>0.582024</td>\n",
       "      <td>0.444444</td>\n",
       "      <td>0.0</td>\n",
       "      <td>...</td>\n",
       "      <td>0.100000</td>\n",
       "      <td>0.7</td>\n",
       "      <td>0.650000</td>\n",
       "      <td>0.400</td>\n",
       "      <td>0.800000</td>\n",
       "      <td>0.500000</td>\n",
       "      <td>0.406250</td>\n",
       "      <td>0.000000</td>\n",
       "      <td>0.187500</td>\n",
       "      <td>0.0</td>\n",
       "    </tr>\n",
       "    <tr>\n",
       "      <th>1</th>\n",
       "      <td>0.333333</td>\n",
       "      <td>0.032844</td>\n",
       "      <td>0.604743</td>\n",
       "      <td>0.009868</td>\n",
       "      <td>0.008621</td>\n",
       "      <td>0.007812</td>\n",
       "      <td>0.0</td>\n",
       "      <td>0.611043</td>\n",
       "      <td>0.333333</td>\n",
       "      <td>0.0</td>\n",
       "      <td>...</td>\n",
       "      <td>0.033333</td>\n",
       "      <td>0.7</td>\n",
       "      <td>0.881250</td>\n",
       "      <td>0.875</td>\n",
       "      <td>0.900000</td>\n",
       "      <td>0.000000</td>\n",
       "      <td>0.500000</td>\n",
       "      <td>1.000000</td>\n",
       "      <td>0.000000</td>\n",
       "      <td>0.0</td>\n",
       "    </tr>\n",
       "    <tr>\n",
       "      <th>2</th>\n",
       "      <td>0.333333</td>\n",
       "      <td>0.027177</td>\n",
       "      <td>0.575130</td>\n",
       "      <td>0.009868</td>\n",
       "      <td>0.008621</td>\n",
       "      <td>0.007812</td>\n",
       "      <td>0.0</td>\n",
       "      <td>0.546334</td>\n",
       "      <td>0.555556</td>\n",
       "      <td>0.0</td>\n",
       "      <td>...</td>\n",
       "      <td>0.100000</td>\n",
       "      <td>1.0</td>\n",
       "      <td>0.533333</td>\n",
       "      <td>0.200</td>\n",
       "      <td>0.866667</td>\n",
       "      <td>0.000000</td>\n",
       "      <td>0.500000</td>\n",
       "      <td>1.000000</td>\n",
       "      <td>0.000000</td>\n",
       "      <td>1.0</td>\n",
       "    </tr>\n",
       "    <tr>\n",
       "      <th>3</th>\n",
       "      <td>0.333333</td>\n",
       "      <td>0.068393</td>\n",
       "      <td>0.503788</td>\n",
       "      <td>0.029605</td>\n",
       "      <td>0.000000</td>\n",
       "      <td>0.007812</td>\n",
       "      <td>0.0</td>\n",
       "      <td>0.547768</td>\n",
       "      <td>0.666667</td>\n",
       "      <td>0.0</td>\n",
       "      <td>...</td>\n",
       "      <td>0.136364</td>\n",
       "      <td>0.8</td>\n",
       "      <td>0.630303</td>\n",
       "      <td>0.400</td>\n",
       "      <td>0.833333</td>\n",
       "      <td>0.000000</td>\n",
       "      <td>0.500000</td>\n",
       "      <td>1.000000</td>\n",
       "      <td>0.000000</td>\n",
       "      <td>0.0</td>\n",
       "    </tr>\n",
       "    <tr>\n",
       "      <th>4</th>\n",
       "      <td>0.523810</td>\n",
       "      <td>0.138073</td>\n",
       "      <td>0.415646</td>\n",
       "      <td>0.062500</td>\n",
       "      <td>0.163793</td>\n",
       "      <td>0.156250</td>\n",
       "      <td>0.0</td>\n",
       "      <td>0.582331</td>\n",
       "      <td>0.666667</td>\n",
       "      <td>0.0</td>\n",
       "      <td>...</td>\n",
       "      <td>0.033333</td>\n",
       "      <td>1.0</td>\n",
       "      <td>0.779808</td>\n",
       "      <td>0.500</td>\n",
       "      <td>0.950000</td>\n",
       "      <td>0.454545</td>\n",
       "      <td>0.568182</td>\n",
       "      <td>0.090909</td>\n",
       "      <td>0.136364</td>\n",
       "      <td>0.0</td>\n",
       "    </tr>\n",
       "  </tbody>\n",
       "</table>\n",
       "<p>5 rows × 45 columns</p>\n",
       "</div>"
      ],
      "text/plain": [
       "   n_tokens_title  n_tokens_content  n_unique_tokens  num_hrefs  \\\n",
       "0        0.476190          0.028207         0.663594   0.013158   \n",
       "1        0.333333          0.032844         0.604743   0.009868   \n",
       "2        0.333333          0.027177         0.575130   0.009868   \n",
       "3        0.333333          0.068393         0.503788   0.029605   \n",
       "4        0.523810          0.138073         0.415646   0.062500   \n",
       "\n",
       "   num_self_hrefs  num_imgs  num_videos  average_token_length  num_keywords  \\\n",
       "0        0.017241  0.007812         0.0              0.582024      0.444444   \n",
       "1        0.008621  0.007812         0.0              0.611043      0.333333   \n",
       "2        0.008621  0.007812         0.0              0.546334      0.555556   \n",
       "3        0.000000  0.007812         0.0              0.547768      0.666667   \n",
       "4        0.163793  0.156250         0.0              0.582331      0.666667   \n",
       "\n",
       "   data_channel_is_lifestyle  ...  min_positive_polarity  \\\n",
       "0                        0.0  ...               0.100000   \n",
       "1                        0.0  ...               0.033333   \n",
       "2                        0.0  ...               0.100000   \n",
       "3                        0.0  ...               0.136364   \n",
       "4                        0.0  ...               0.033333   \n",
       "\n",
       "   max_positive_polarity  avg_negative_polarity  min_negative_polarity  \\\n",
       "0                    0.7               0.650000                  0.400   \n",
       "1                    0.7               0.881250                  0.875   \n",
       "2                    1.0               0.533333                  0.200   \n",
       "3                    0.8               0.630303                  0.400   \n",
       "4                    1.0               0.779808                  0.500   \n",
       "\n",
       "   max_negative_polarity  title_subjectivity  title_sentiment_polarity  \\\n",
       "0               0.800000            0.500000                  0.406250   \n",
       "1               0.900000            0.000000                  0.500000   \n",
       "2               0.866667            0.000000                  0.500000   \n",
       "3               0.833333            0.000000                  0.500000   \n",
       "4               0.950000            0.454545                  0.568182   \n",
       "\n",
       "   abs_title_subjectivity  abs_title_sentiment_polarity  popularity  \n",
       "0                0.000000                      0.187500         0.0  \n",
       "1                1.000000                      0.000000         0.0  \n",
       "2                1.000000                      0.000000         1.0  \n",
       "3                1.000000                      0.000000         0.0  \n",
       "4                0.090909                      0.136364         0.0  \n",
       "\n",
       "[5 rows x 45 columns]"
      ]
     },
     "execution_count": 7,
     "metadata": {},
     "output_type": "execute_result"
    }
   ],
   "source": [
    "from sklearn.preprocessing import MinMaxScaler \n",
    "scaler = MinMaxScaler()\n",
    "scaler_list = final_data.columns.tolist()\n",
    "data = scaler.fit_transform(final_data)\n",
    "data = pd.DataFrame(data,columns=scaler_list)\n",
    "data.head()"
   ]
  },
  {
   "cell_type": "code",
   "execution_count": 8,
   "id": "561aedeb",
   "metadata": {},
   "outputs": [],
   "source": [
    "from sklearn.model_selection import train_test_split\n",
    "\n",
    "train_set = data.drop(labels=[\"popularity\"],axis=1)\n",
    "test_set = data[\"popularity\"]\n",
    "\n",
    "X_train,X_test,y_train,y_test = train_test_split(train_set,test_set,test_size=0.2,random_state=42)"
   ]
  },
  {
   "cell_type": "markdown",
   "id": "e24d4524",
   "metadata": {},
   "source": [
    "# 3.2\tMachine Learning Algorithms "
   ]
  },
  {
   "cell_type": "code",
   "execution_count": 9,
   "id": "02dfee8a",
   "metadata": {},
   "outputs": [
    {
     "name": "stdout",
     "output_type": "stream",
     "text": [
      "LogisticRegression 0.6472342733188721\n",
      "KNeighborsClassifier 0.6090021691973969\n",
      "SVC 0.6420824295010846\n",
      "DecisionTreeClassifier 0.5677874186550976\n"
     ]
    }
   ],
   "source": [
    "from sklearn.linear_model import LogisticRegression\n",
    "from sklearn.neighbors import KNeighborsClassifier\n",
    "from sklearn.svm import SVC\n",
    "from sklearn.tree import DecisionTreeClassifier\n",
    "from sklearn.metrics import accuracy_score\n",
    "\n",
    "lr_clf = LogisticRegression(random_state=42, max_iter=1000)\n",
    "knn_clf = KNeighborsClassifier()\n",
    "svm_clf = SVC(random_state=42)\n",
    "dec_clf = DecisionTreeClassifier(random_state=42)\n",
    "\n",
    "classifiers = [lr_clf, knn_clf, svm_clf, dec_clf]\n",
    "\n",
    "for clf in classifiers:\n",
    "    clf.fit(X_train,y_train)\n",
    "    y_pred = clf.predict(X_test)\n",
    "    print(clf.__class__.__name__, accuracy_score(y_test, y_pred))"
   ]
  },
  {
   "cell_type": "markdown",
   "id": "92e7045b",
   "metadata": {},
   "source": [
    "# 3.3  Performance Optimization"
   ]
  },
  {
   "cell_type": "markdown",
   "id": "e2dff6bf",
   "metadata": {},
   "source": [
    "3.3.1 Outliers Handling"
   ]
  },
  {
   "cell_type": "code",
   "execution_count": 10,
   "id": "0b0bdca4",
   "metadata": {},
   "outputs": [
    {
     "data": {
      "text/plain": [
       "<AxesSubplot:>"
      ]
     },
     "execution_count": 10,
     "metadata": {},
     "output_type": "execute_result"
    },
    {
     "data": {
      "image/png": "[encoded data removed]",
      "text/plain": [
       "<Figure size 1152x576 with 1 Axes>"
      ]
     },
     "metadata": {
      "needs_background": "light"
     },
     "output_type": "display_data"
    }
   ],
   "source": [
    "import seaborn as sns\n",
    "\n",
    "plt.figure(figsize=(16,8))\n",
    "plt.xticks(rotation=45)\n",
    "sns.boxplot(data = final_data)"
   ]
  },
  {
   "cell_type": "code",
   "execution_count": 11,
   "id": "28dc6ced",
   "metadata": {},
   "outputs": [
    {
     "data": {
      "text/html": [
       "<div>\n",
       "<style scoped>\n",
       "    .dataframe tbody tr th:only-of-type {\n",
       "        vertical-align: middle;\n",
       "    }\n",
       "\n",
       "    .dataframe tbody tr th {\n",
       "        vertical-align: top;\n",
       "    }\n",
       "\n",
       "    .dataframe thead th {\n",
       "        text-align: right;\n",
       "    }\n",
       "</style>\n",
       "<table border=\"1\" class=\"dataframe\">\n",
       "  <thead>\n",
       "    <tr style=\"text-align: right;\">\n",
       "      <th></th>\n",
       "      <th>n_tokens_title</th>\n",
       "      <th>n_tokens_content</th>\n",
       "      <th>n_unique_tokens</th>\n",
       "      <th>num_hrefs</th>\n",
       "      <th>num_self_hrefs</th>\n",
       "      <th>num_imgs</th>\n",
       "      <th>num_videos</th>\n",
       "      <th>average_token_length</th>\n",
       "      <th>num_keywords</th>\n",
       "      <th>data_channel_is_lifestyle</th>\n",
       "      <th>...</th>\n",
       "      <th>min_positive_polarity</th>\n",
       "      <th>max_positive_polarity</th>\n",
       "      <th>avg_negative_polarity</th>\n",
       "      <th>min_negative_polarity</th>\n",
       "      <th>max_negative_polarity</th>\n",
       "      <th>title_subjectivity</th>\n",
       "      <th>title_sentiment_polarity</th>\n",
       "      <th>abs_title_subjectivity</th>\n",
       "      <th>abs_title_sentiment_polarity</th>\n",
       "      <th>popularity</th>\n",
       "    </tr>\n",
       "  </thead>\n",
       "  <tbody>\n",
       "    <tr>\n",
       "      <th>count</th>\n",
       "      <td>36879.000000</td>\n",
       "      <td>36879.000000</td>\n",
       "      <td>36879.000000</td>\n",
       "      <td>36879.000000</td>\n",
       "      <td>36879.000000</td>\n",
       "      <td>36879.000000</td>\n",
       "      <td>36879.000000</td>\n",
       "      <td>36879.000000</td>\n",
       "      <td>36879.000000</td>\n",
       "      <td>36879.0</td>\n",
       "      <td>...</td>\n",
       "      <td>36879.000000</td>\n",
       "      <td>36879.000000</td>\n",
       "      <td>36879.000000</td>\n",
       "      <td>36879.000000</td>\n",
       "      <td>36879.000000</td>\n",
       "      <td>36879.000000</td>\n",
       "      <td>36879.000000</td>\n",
       "      <td>36879.000000</td>\n",
       "      <td>36879.000000</td>\n",
       "      <td>36879.000000</td>\n",
       "    </tr>\n",
       "    <tr>\n",
       "      <th>mean</th>\n",
       "      <td>10.372110</td>\n",
       "      <td>481.345614</td>\n",
       "      <td>0.544021</td>\n",
       "      <td>9.114930</td>\n",
       "      <td>2.840562</td>\n",
       "      <td>3.056136</td>\n",
       "      <td>0.516741</td>\n",
       "      <td>4.688121</td>\n",
       "      <td>7.294586</td>\n",
       "      <td>0.0</td>\n",
       "      <td>...</td>\n",
       "      <td>0.084735</td>\n",
       "      <td>0.784521</td>\n",
       "      <td>-0.265152</td>\n",
       "      <td>-0.519999</td>\n",
       "      <td>-0.091475</td>\n",
       "      <td>0.228418</td>\n",
       "      <td>0.064366</td>\n",
       "      <td>0.341817</td>\n",
       "      <td>0.117016</td>\n",
       "      <td>0.545812</td>\n",
       "    </tr>\n",
       "    <tr>\n",
       "      <th>std</th>\n",
       "      <td>1.769917</td>\n",
       "      <td>312.400636</td>\n",
       "      <td>0.093925</td>\n",
       "      <td>6.685493</td>\n",
       "      <td>2.235255</td>\n",
       "      <td>4.412634</td>\n",
       "      <td>1.026277</td>\n",
       "      <td>0.274508</td>\n",
       "      <td>1.812208</td>\n",
       "      <td>0.0</td>\n",
       "      <td>...</td>\n",
       "      <td>0.043691</td>\n",
       "      <td>0.199751</td>\n",
       "      <td>0.088009</td>\n",
       "      <td>0.289563</td>\n",
       "      <td>0.052072</td>\n",
       "      <td>0.259969</td>\n",
       "      <td>0.175059</td>\n",
       "      <td>0.189089</td>\n",
       "      <td>0.158696</td>\n",
       "      <td>0.497904</td>\n",
       "    </tr>\n",
       "    <tr>\n",
       "      <th>min</th>\n",
       "      <td>7.000000</td>\n",
       "      <td>0.000000</td>\n",
       "      <td>0.260995</td>\n",
       "      <td>0.000000</td>\n",
       "      <td>0.000000</td>\n",
       "      <td>0.000000</td>\n",
       "      <td>0.000000</td>\n",
       "      <td>3.600000</td>\n",
       "      <td>4.000000</td>\n",
       "      <td>0.0</td>\n",
       "      <td>...</td>\n",
       "      <td>0.000000</td>\n",
       "      <td>0.285714</td>\n",
       "      <td>-0.511111</td>\n",
       "      <td>-1.000000</td>\n",
       "      <td>-0.291667</td>\n",
       "      <td>0.000000</td>\n",
       "      <td>-0.450000</td>\n",
       "      <td>0.000000</td>\n",
       "      <td>0.000000</td>\n",
       "      <td>0.000000</td>\n",
       "    </tr>\n",
       "    <tr>\n",
       "      <th>25%</th>\n",
       "      <td>9.000000</td>\n",
       "      <td>249.000000</td>\n",
       "      <td>0.480019</td>\n",
       "      <td>4.000000</td>\n",
       "      <td>1.000000</td>\n",
       "      <td>1.000000</td>\n",
       "      <td>0.000000</td>\n",
       "      <td>4.503497</td>\n",
       "      <td>6.000000</td>\n",
       "      <td>0.0</td>\n",
       "      <td>...</td>\n",
       "      <td>0.050000</td>\n",
       "      <td>0.600000</td>\n",
       "      <td>-0.316667</td>\n",
       "      <td>-0.700000</td>\n",
       "      <td>-0.125000</td>\n",
       "      <td>0.000000</td>\n",
       "      <td>0.000000</td>\n",
       "      <td>0.166667</td>\n",
       "      <td>0.000000</td>\n",
       "      <td>0.000000</td>\n",
       "    </tr>\n",
       "    <tr>\n",
       "      <th>50%</th>\n",
       "      <td>10.000000</td>\n",
       "      <td>414.000000</td>\n",
       "      <td>0.544021</td>\n",
       "      <td>7.000000</td>\n",
       "      <td>2.840562</td>\n",
       "      <td>1.000000</td>\n",
       "      <td>0.000000</td>\n",
       "      <td>4.685950</td>\n",
       "      <td>7.000000</td>\n",
       "      <td>0.0</td>\n",
       "      <td>...</td>\n",
       "      <td>0.100000</td>\n",
       "      <td>0.800000</td>\n",
       "      <td>-0.265152</td>\n",
       "      <td>-0.500000</td>\n",
       "      <td>-0.100000</td>\n",
       "      <td>0.125000</td>\n",
       "      <td>0.000000</td>\n",
       "      <td>0.500000</td>\n",
       "      <td>0.000000</td>\n",
       "      <td>1.000000</td>\n",
       "    </tr>\n",
       "    <tr>\n",
       "      <th>75%</th>\n",
       "      <td>12.000000</td>\n",
       "      <td>646.000000</td>\n",
       "      <td>0.604061</td>\n",
       "      <td>12.000000</td>\n",
       "      <td>4.000000</td>\n",
       "      <td>3.056136</td>\n",
       "      <td>1.000000</td>\n",
       "      <td>4.856780</td>\n",
       "      <td>9.000000</td>\n",
       "      <td>0.0</td>\n",
       "      <td>...</td>\n",
       "      <td>0.100000</td>\n",
       "      <td>1.000000</td>\n",
       "      <td>-0.202778</td>\n",
       "      <td>-0.300000</td>\n",
       "      <td>-0.050000</td>\n",
       "      <td>0.454545</td>\n",
       "      <td>0.125000</td>\n",
       "      <td>0.500000</td>\n",
       "      <td>0.200000</td>\n",
       "      <td>1.000000</td>\n",
       "    </tr>\n",
       "    <tr>\n",
       "      <th>max</th>\n",
       "      <td>14.000000</td>\n",
       "      <td>1481.000000</td>\n",
       "      <td>0.800926</td>\n",
       "      <td>32.000000</td>\n",
       "      <td>11.000000</td>\n",
       "      <td>20.000000</td>\n",
       "      <td>9.000000</td>\n",
       "      <td>6.197802</td>\n",
       "      <td>10.000000</td>\n",
       "      <td>0.0</td>\n",
       "      <td>...</td>\n",
       "      <td>0.227273</td>\n",
       "      <td>1.000000</td>\n",
       "      <td>-0.012500</td>\n",
       "      <td>0.000000</td>\n",
       "      <td>0.000000</td>\n",
       "      <td>0.916667</td>\n",
       "      <td>0.591667</td>\n",
       "      <td>0.500000</td>\n",
       "      <td>0.591667</td>\n",
       "      <td>1.000000</td>\n",
       "    </tr>\n",
       "  </tbody>\n",
       "</table>\n",
       "<p>8 rows × 45 columns</p>\n",
       "</div>"
      ],
      "text/plain": [
       "       n_tokens_title  n_tokens_content  n_unique_tokens     num_hrefs  \\\n",
       "count    36879.000000      36879.000000     36879.000000  36879.000000   \n",
       "mean        10.372110        481.345614         0.544021      9.114930   \n",
       "std          1.769917        312.400636         0.093925      6.685493   \n",
       "min          7.000000          0.000000         0.260995      0.000000   \n",
       "25%          9.000000        249.000000         0.480019      4.000000   \n",
       "50%         10.000000        414.000000         0.544021      7.000000   \n",
       "75%         12.000000        646.000000         0.604061     12.000000   \n",
       "max         14.000000       1481.000000         0.800926     32.000000   \n",
       "\n",
       "       num_self_hrefs      num_imgs    num_videos  average_token_length  \\\n",
       "count    36879.000000  36879.000000  36879.000000          36879.000000   \n",
       "mean         2.840562      3.056136      0.516741              4.688121   \n",
       "std          2.235255      4.412634      1.026277              0.274508   \n",
       "min          0.000000      0.000000      0.000000              3.600000   \n",
       "25%          1.000000      1.000000      0.000000              4.503497   \n",
       "50%          2.840562      1.000000      0.000000              4.685950   \n",
       "75%          4.000000      3.056136      1.000000              4.856780   \n",
       "max         11.000000     20.000000      9.000000              6.197802   \n",
       "\n",
       "       num_keywords  data_channel_is_lifestyle  ...  min_positive_polarity  \\\n",
       "count  36879.000000                    36879.0  ...           36879.000000   \n",
       "mean       7.294586                        0.0  ...               0.084735   \n",
       "std        1.812208                        0.0  ...               0.043691   \n",
       "min        4.000000                        0.0  ...               0.000000   \n",
       "25%        6.000000                        0.0  ...               0.050000   \n",
       "50%        7.000000                        0.0  ...               0.100000   \n",
       "75%        9.000000                        0.0  ...               0.100000   \n",
       "max       10.000000                        0.0  ...               0.227273   \n",
       "\n",
       "       max_positive_polarity  avg_negative_polarity  min_negative_polarity  \\\n",
       "count           36879.000000           36879.000000           36879.000000   \n",
       "mean                0.784521              -0.265152              -0.519999   \n",
       "std                 0.199751               0.088009               0.289563   \n",
       "min                 0.285714              -0.511111              -1.000000   \n",
       "25%                 0.600000              -0.316667              -0.700000   \n",
       "50%                 0.800000              -0.265152              -0.500000   \n",
       "75%                 1.000000              -0.202778              -0.300000   \n",
       "max                 1.000000              -0.012500               0.000000   \n",
       "\n",
       "       max_negative_polarity  title_subjectivity  title_sentiment_polarity  \\\n",
       "count           36879.000000        36879.000000              36879.000000   \n",
       "mean               -0.091475            0.228418                  0.064366   \n",
       "std                 0.052072            0.259969                  0.175059   \n",
       "min                -0.291667            0.000000                 -0.450000   \n",
       "25%                -0.125000            0.000000                  0.000000   \n",
       "50%                -0.100000            0.125000                  0.000000   \n",
       "75%                -0.050000            0.454545                  0.125000   \n",
       "max                 0.000000            0.916667                  0.591667   \n",
       "\n",
       "       abs_title_subjectivity  abs_title_sentiment_polarity    popularity  \n",
       "count            36879.000000                  36879.000000  36879.000000  \n",
       "mean                 0.341817                      0.117016      0.545812  \n",
       "std                  0.189089                      0.158696      0.497904  \n",
       "min                  0.000000                      0.000000      0.000000  \n",
       "25%                  0.166667                      0.000000      0.000000  \n",
       "50%                  0.500000                      0.000000      1.000000  \n",
       "75%                  0.500000                      0.200000      1.000000  \n",
       "max                  0.500000                      0.591667      1.000000  \n",
       "\n",
       "[8 rows x 45 columns]"
      ]
     },
     "execution_count": 11,
     "metadata": {},
     "output_type": "execute_result"
    }
   ],
   "source": [
    "df = final_data  # remove all the outliers from features\n",
    "\n",
    "df_new = df.mask((df - df.mean()).abs() > 2 * df.std())\n",
    "\n",
    "final_data_new = df_new.fillna(df_new.mean())\n",
    "\n",
    "final_data_new.describe()"
   ]
  },
  {
   "cell_type": "code",
   "execution_count": 12,
   "id": "5c9e22e5",
   "metadata": {},
   "outputs": [],
   "source": [
    "from sklearn.preprocessing import MinMaxScaler   \n",
    "from sklearn.model_selection import train_test_split\n",
    "\n",
    "scaler = MinMaxScaler()\n",
    "scaler_list_new = final_data_new.columns.tolist()\n",
    "data_new = scaler.fit_transform(final_data_new)\n",
    "data_new = pd.DataFrame(data_new,columns=scaler_list)\n",
    "\n",
    "train_set_new = data_new.drop(labels=[\"popularity\"],axis=1)\n",
    "test_set_new = data_new[\"popularity\"]\n",
    "\n",
    "X_train_new,X_test_new,y_train_new,y_test_new = train_test_split(train_set_new,test_set_new,test_size=0.2,random_state=42)"
   ]
  },
  {
   "cell_type": "code",
   "execution_count": 13,
   "id": "cd5a60bf",
   "metadata": {},
   "outputs": [
    {
     "name": "stdout",
     "output_type": "stream",
     "text": [
      "LogisticRegression 0.6321854663774403\n",
      "KNeighborsClassifier 0.5772776572668112\n",
      "SVC 0.6446583514099783\n",
      "DecisionTreeClassifier 0.563177874186551\n"
     ]
    }
   ],
   "source": [
    "for clf in classifiers:\n",
    "    clf.fit(X_train_new,y_train_new)\n",
    "    y_pred_new = clf.predict(X_test_new)\n",
    "    print(clf.__class__.__name__, accuracy_score(y_test_new, y_pred_new))"
   ]
  },
  {
   "cell_type": "markdown",
   "id": "fed13a55",
   "metadata": {},
   "source": [
    "3.3.2 HyperParameter Tuning"
   ]
  },
  {
   "cell_type": "markdown",
   "id": "9bf49ec0",
   "metadata": {},
   "source": [
    "KNN: manual setting the number of neighbors  "
   ]
  },
  {
   "cell_type": "code",
   "execution_count": 14,
   "id": "64d6614d",
   "metadata": {},
   "outputs": [
    {
     "name": "stdout",
     "output_type": "stream",
     "text": [
      "when n_neighbors is : 7, the accuracy_score is 0.6129338394793926\n",
      "----------------------------------------\n",
      "when n_neighbors is : 8, the accuracy_score is 0.6095444685466378\n",
      "----------------------------------------\n",
      "when n_neighbors is : 9, the accuracy_score is 0.6164587852494577\n",
      "----------------------------------------\n",
      "when n_neighbors is : 10, the accuracy_score is 0.6079175704989154\n",
      "----------------------------------------\n",
      "when n_neighbors is : 11, the accuracy_score is 0.6188991323210412\n",
      "----------------------------------------\n",
      "when n_neighbors is : 12, the accuracy_score is 0.6122559652928417\n",
      "----------------------------------------\n",
      "when n_neighbors is : 13, the accuracy_score is 0.6217462039045553\n",
      "----------------------------------------\n",
      "when n_neighbors is : 14, the accuracy_score is 0.6183568329718004\n",
      "----------------------------------------\n"
     ]
    }
   ],
   "source": [
    "for n in range(7,15):\n",
    "    knn_clf = KNeighborsClassifier(n_neighbors=n)\n",
    "    knn_clf.fit(X_train,y_train)\n",
    "    y_pred = knn_clf.predict(X_test)\n",
    "    print(f\"when n_neighbors is : {n}, the accuracy_score is {accuracy_score(y_test,y_pred)}\")\n",
    "    print(\"-\"*40)"
   ]
  },
  {
   "cell_type": "markdown",
   "id": "014f246c",
   "metadata": {},
   "source": [
    "Decision Tree: Grid Search"
   ]
  },
  {
   "cell_type": "code",
   "execution_count": 15,
   "id": "61678747",
   "metadata": {},
   "outputs": [
    {
     "name": "stdout",
     "output_type": "stream",
     "text": [
      "Fitting 3 folds for each of 9 candidates, totalling 27 fits\n",
      "DecisionTreeClassifier(max_depth=6, min_samples_leaf=56, random_state=42)\n",
      "0.6324566160520607\n"
     ]
    }
   ],
   "source": [
    "from sklearn.model_selection import GridSearchCV\n",
    "\n",
    "params = {'min_samples_leaf': list(range(50,58,3)), 'max_depth': [4,6,8]}\n",
    "grid_search_cv = GridSearchCV(DecisionTreeClassifier(random_state=42), params, verbose=1, cv=3)\n",
    "grid_search_cv.fit(X_train, y_train)\n",
    "\n",
    "print(grid_search_cv.best_estimator_)\n",
    "\n",
    "y_pred = grid_search_cv.predict(X_test)\n",
    "print(accuracy_score(y_test,y_pred))"
   ]
  },
  {
   "cell_type": "markdown",
   "id": "e0cf5ff5",
   "metadata": {},
   "source": [
    "SVM: Random Search with rbf kernel"
   ]
  },
  {
   "cell_type": "code",
   "execution_count": 16,
   "id": "0e0b7a52",
   "metadata": {},
   "outputs": [
    {
     "name": "stdout",
     "output_type": "stream",
     "text": [
      "Fitting 3 folds for each of 10 candidates, totalling 30 fits\n",
      "SVC(C=9.201447899676177, gamma=0.03654168552245679, random_state=42)\n",
      "the accuracy with rbf kernel is 0.6372017353579176\n"
     ]
    }
   ],
   "source": [
    "from sklearn.model_selection import RandomizedSearchCV\n",
    "from scipy.stats import reciprocal, uniform\n",
    " \n",
    "param_distributions = {\"gamma\": reciprocal(0.02,0.04),\"C\": uniform(1,10)}\n",
    "rnd_search_cv = RandomizedSearchCV(SVC(random_state=42), param_distributions, n_iter=10, verbose=1, cv=3)\n",
    "rnd_search_cv.fit(X_train[:10000], y_train[:10000])\n",
    "\n",
    "print(rnd_search_cv.best_estimator_)\n",
    "\n",
    "y_pred = rnd_search_cv.predict(X_test)\n",
    "print(f\"the accuracy with rbf kernel is {accuracy_score(y_test,y_pred)}\")"
   ]
  },
  {
   "cell_type": "markdown",
   "id": "7ee8995f",
   "metadata": {},
   "source": [
    "SVM: Random Search with poly kernel"
   ]
  },
  {
   "cell_type": "code",
   "execution_count": 17,
   "id": "e526a01d",
   "metadata": {},
   "outputs": [
    {
     "name": "stdout",
     "output_type": "stream",
     "text": [
      "Fitting 3 folds for each of 10 candidates, totalling 30 fits\n",
      "SVC(C=5.386450695863251, coef0=7, degree=2, kernel='poly', random_state=42)\n",
      "the accuracy with poly kernel is 0.646556399132321\n"
     ]
    }
   ],
   "source": [
    "param_distributions = {\"degree\": [2,3],\"C\": uniform(5,10),\"coef0\":[3,5,7]}\n",
    "rnd_search_cv = RandomizedSearchCV(SVC(kernel=\"poly\",random_state=42), param_distributions, n_iter=10, verbose=1, cv=3)\n",
    "rnd_search_cv.fit(X_train[:10000], y_train[:10000])\n",
    "\n",
    "print(rnd_search_cv.best_estimator_)\n",
    "\n",
    "y_pred = rnd_search_cv.predict(X_test)\n",
    "print(f\"the accuracy with poly kernel is {accuracy_score(y_test,y_pred)}\")"
   ]
  },
  {
   "cell_type": "markdown",
   "id": "ac63cccc",
   "metadata": {},
   "source": [
    "3.3.3 Ensemble Learning Algorithms"
   ]
  },
  {
   "cell_type": "markdown",
   "id": "67988fdc",
   "metadata": {},
   "source": [
    "Random Forest"
   ]
  },
  {
   "cell_type": "code",
   "execution_count": 18,
   "id": "e723aebe",
   "metadata": {},
   "outputs": [
    {
     "name": "stdout",
     "output_type": "stream",
     "text": [
      "Fitting 3 folds for each of 32 candidates, totalling 96 fits\n",
      "RandomForestClassifier(max_depth=6, min_samples_leaf=51, n_estimators=110,\n",
      "                       random_state=42)\n",
      "the accuracy for RandomForest is 0.6503524945770065\n"
     ]
    }
   ],
   "source": [
    "from sklearn.ensemble import RandomForestClassifier\n",
    "\n",
    "rnd_clf = RandomForestClassifier(random_state=42)\n",
    "\n",
    "params = {'n_estimators': list(range(80,111,10)), 'min_samples_leaf': list(range(45,56,3)), 'max_depth': [6,8]}\n",
    "grid_search_cv = GridSearchCV(rnd_clf, params, verbose=1, cv=3)\n",
    "grid_search_cv.fit(X_train[:10000], y_train[:10000])\n",
    "\n",
    "print(grid_search_cv.best_estimator_)\n",
    "\n",
    "y_pred = grid_search_cv.predict(X_test)\n",
    "print(f\"the accuracy for RandomForest is {accuracy_score(y_test,y_pred)}\")"
   ]
  },
  {
   "cell_type": "markdown",
   "id": "ae0742f7",
   "metadata": {},
   "source": [
    "AdaBoosting"
   ]
  },
  {
   "cell_type": "code",
   "execution_count": 19,
   "id": "36380cca",
   "metadata": {},
   "outputs": [
    {
     "name": "stdout",
     "output_type": "stream",
     "text": [
      "Fitting 3 folds for each of 12 candidates, totalling 36 fits\n",
      "AdaBoostClassifier(learning_rate=0.5, n_estimators=80, random_state=42)\n",
      "the accuracy for RandomForest is 0.6549620390455532\n"
     ]
    }
   ],
   "source": [
    "from sklearn.ensemble import AdaBoostClassifier\n",
    "\n",
    "ada_clf = AdaBoostClassifier(random_state=42)\n",
    "\n",
    "params = {'n_estimators': list(range(60,91,10)),'learning_rate':[0.4,0.5,0.6]}\n",
    "grid_search_cv = GridSearchCV(ada_clf, params, verbose=1, cv=3)\n",
    "grid_search_cv.fit(X_train[:10000], y_train[:10000])\n",
    "\n",
    "print(grid_search_cv.best_estimator_)\n",
    "\n",
    "y_pred = grid_search_cv.predict(X_test)\n",
    "print(f\"the accuracy for RandomForest is {accuracy_score(y_test,y_pred)}\")"
   ]
  },
  {
   "cell_type": "markdown",
   "id": "3ee5ac7e",
   "metadata": {},
   "source": [
    "VotingClassifier"
   ]
  },
  {
   "cell_type": "code",
   "execution_count": 20,
   "id": "afdccb32",
   "metadata": {},
   "outputs": [],
   "source": [
    "from sklearn.ensemble import AdaBoostClassifier\n",
    "from sklearn.ensemble import RandomForestClassifier"
   ]
  },
  {
   "cell_type": "code",
   "execution_count": 21,
   "id": "311ed09c",
   "metadata": {},
   "outputs": [],
   "source": [
    "from sklearn.ensemble import VotingClassifier\n",
    "\n",
    "lr_clf = LogisticRegression(solver=\"lbfgs\",max_iter=1000,random_state=42)\n",
    "rnd_clf = RandomForestClassifier(max_depth=8, min_samples_leaf=50, n_estimators=90, random_state=42)\n",
    "svm_clf = SVC(probability=True,random_state=42)\n",
    "ada_clf = AdaBoostClassifier(learning_rate=0.5, n_estimators=80, random_state=42)"
   ]
  },
  {
   "cell_type": "markdown",
   "id": "a047ff13",
   "metadata": {},
   "source": [
    "Hard - VotingClassifier"
   ]
  },
  {
   "cell_type": "code",
   "execution_count": 22,
   "id": "26382463",
   "metadata": {},
   "outputs": [
    {
     "name": "stdout",
     "output_type": "stream",
     "text": [
      "the hard_voting accuracy is: 0.6507592190889371\n"
     ]
    }
   ],
   "source": [
    "voting_clf_soft = VotingClassifier(estimators=[('lr', lr_clf), ('rnd', rnd_clf), ('svm',svm_clf), ('ada',ada_clf)])\n",
    "\n",
    "voting_clf_soft.fit(X_train[:10000], y_train[:10000])\n",
    "y_pred = voting_clf_soft.predict(X_test)\n",
    "print(f\"the hard_voting accuracy is: {accuracy_score(y_test, y_pred)}\")"
   ]
  },
  {
   "cell_type": "markdown",
   "id": "603f5037",
   "metadata": {},
   "source": [
    "Soft - VotingClassifier"
   ]
  },
  {
   "cell_type": "code",
   "execution_count": 23,
   "id": "99a0c901",
   "metadata": {},
   "outputs": [
    {
     "name": "stdout",
     "output_type": "stream",
     "text": [
      "the soft_voting accuracy is: 0.6469631236442517\n"
     ]
    }
   ],
   "source": [
    "voting_clf_soft = VotingClassifier(estimators=[('lr', lr_clf), ('rnd', rnd_clf), ('svm',svm_clf), ('ada',ada_clf)],voting='soft')\n",
    "\n",
    "voting_clf_soft.fit(X_train[:10000], y_train[:10000])\n",
    "y_pred = voting_clf_soft.predict(X_test)\n",
    "print(f\"the soft_voting accuracy is: {accuracy_score(y_test, y_pred)}\")"
   ]
  },
  {
   "cell_type": "markdown",
   "id": "6296a296",
   "metadata": {},
   "source": [
    "3.3.4 Feature Engineering"
   ]
  },
  {
   "cell_type": "markdown",
   "id": "990b25d3",
   "metadata": {},
   "source": [
    "Feature_Importance"
   ]
  },
  {
   "cell_type": "code",
   "execution_count": 24,
   "id": "2972c28d",
   "metadata": {},
   "outputs": [
    {
     "name": "stdout",
     "output_type": "stream",
     "text": [
      "kw_avg_avg                       0.108214\n",
      "is_weekend                       0.103666\n",
      "self_reference_avg_sharess       0.083683\n",
      "data_channel_is_entertainment    0.074257\n",
      "LDA_02                           0.060086\n",
      "kw_min_avg                       0.050225\n",
      "data_channel_is_world            0.041963\n",
      "data_channel_is_tech             0.033674\n",
      "data_channel_is_socmed           0.032077\n",
      "LDA_04                           0.029502\n",
      "LDA_00                           0.027230\n",
      "LDA_01                           0.026688\n",
      "kw_avg_min                       0.025353\n",
      "n_unique_tokens                  0.023295\n",
      "n_tokens_content                 0.021937\n",
      "kw_avg_max                       0.021639\n",
      "num_hrefs                        0.019697\n",
      "num_imgs                         0.018868\n",
      "global_sentiment_polarity        0.017349\n",
      "min_positive_polarity            0.017312\n",
      "LDA_03                           0.013609\n",
      "rate_positive_words              0.013330\n",
      "global_rate_positive_words       0.012729\n",
      "kw_min_min                       0.011826\n",
      "average_token_length             0.011670\n",
      "rate_negative_words              0.011015\n",
      "kw_min_max                       0.009563\n",
      "num_keywords                     0.008698\n",
      "global_subjectivity              0.008527\n",
      "global_rate_negative_words       0.008506\n",
      "data_channel_is_bus              0.007095\n",
      "avg_positive_polarity            0.006803\n",
      "avg_negative_polarity            0.005635\n",
      "num_self_hrefs                   0.004733\n",
      "min_negative_polarity            0.004314\n",
      "title_sentiment_polarity         0.003900\n",
      "n_tokens_title                   0.003781\n",
      "max_negative_polarity            0.003104\n",
      "num_videos                       0.002967\n",
      "max_positive_polarity            0.002928\n",
      "abs_title_subjectivity           0.002789\n",
      "abs_title_sentiment_polarity     0.002760\n",
      "title_subjectivity               0.002652\n",
      "data_channel_is_lifestyle        0.000352\n",
      "dtype: float64\n"
     ]
    }
   ],
   "source": [
    "rnd_clf = RandomForestClassifier(max_depth=8, min_samples_leaf=50, \n",
    "                                 n_estimators=90, random_state=42)\n",
    "rnd_clf.fit(X_train,y_train)\n",
    "\n",
    "feature_importance = rnd_clf.feature_importances_\n",
    "\n",
    "feature_name = X_train.columns.tolist()\n",
    "\n",
    "arrySer=pd.Series(feature_importance,index=feature_name).sort_values(ascending=False)\n",
    "print(arrySer)"
   ]
  },
  {
   "cell_type": "code",
   "execution_count": 25,
   "id": "e4517d15",
   "metadata": {},
   "outputs": [
    {
     "name": "stdout",
     "output_type": "stream",
     "text": [
      "time cost for original data set:  3.8026773929595947 s\n",
      "the accuracy for original data set:  65.10303687635574 %\n"
     ]
    }
   ],
   "source": [
    "import time\n",
    "\n",
    "time_start = time.time()\n",
    "rnd_clf.fit(X_train,y_train)\n",
    "time_end = time.time()\n",
    "time_c= time_end - time_start\n",
    "y_pred = rnd_clf.predict(X_test)\n",
    "\n",
    "print('time cost for original data set: ', time_c, 's')\n",
    "print('the accuracy for original data set: ', accuracy_score(y_test,y_pred)*100, '%')"
   ]
  },
  {
   "cell_type": "code",
   "execution_count": 26,
   "id": "e419469a",
   "metadata": {},
   "outputs": [],
   "source": [
    "low_importance_list = [\"data_channel_is_lifestyle\",\"title_subjectivity\",\"abs_title_sentiment_polarity\",\"abs_title_subjectivity\",\n",
    "                      \"max_positive_polarity\",\"num_videos\",\"max_negative_polarity\",\"n_tokens_title\",\"title_sentiment_polarity\",\n",
    "                      \"min_negative_polarity\",\"num_self_hrefs\"]\n",
    "drop_list_new = []"
   ]
  },
  {
   "cell_type": "code",
   "execution_count": 27,
   "id": "ddeb0682",
   "metadata": {},
   "outputs": [
    {
     "name": "stdout",
     "output_type": "stream",
     "text": [
      "when drop 1 features\n",
      "time cost for extracted data set:  4.00550389289856 s\n",
      "the accuracy for extracted data set:  65.00813449023862 %\n",
      "----------------------------------------\n",
      "when drop 2 features\n",
      "time cost for extracted data set:  3.9415900707244873 s\n",
      "the accuracy for extracted data set:  65.15726681127983 %\n",
      "----------------------------------------\n",
      "when drop 3 features\n",
      "time cost for extracted data set:  3.9880518913269043 s\n",
      "the accuracy for extracted data set:  65.22505422993493 %\n",
      "----------------------------------------\n",
      "when drop 4 features\n",
      "time cost for extracted data set:  4.036044359207153 s\n",
      "the accuracy for extracted data set:  65.00813449023862 %\n",
      "----------------------------------------\n",
      "when drop 5 features\n",
      "time cost for extracted data set:  4.1440722942352295 s\n",
      "the accuracy for extracted data set:  65.08947939262472 %\n",
      "----------------------------------------\n",
      "when drop 6 features\n",
      "time cost for extracted data set:  4.0973358154296875 s\n",
      "the accuracy for extracted data set:  65.19793926247289 %\n",
      "----------------------------------------\n",
      "when drop 7 features\n",
      "time cost for extracted data set:  4.217040777206421 s\n",
      "the accuracy for extracted data set:  64.94034707158352 %\n",
      "----------------------------------------\n",
      "when drop 8 features\n",
      "time cost for extracted data set:  4.228552579879761 s\n",
      "the accuracy for extracted data set:  65.04880694143166 %\n",
      "----------------------------------------\n",
      "when drop 9 features\n",
      "time cost for extracted data set:  3.645791530609131 s\n",
      "the accuracy for extracted data set:  64.9267895878525 %\n",
      "----------------------------------------\n",
      "when drop 10 features\n",
      "time cost for extracted data set:  3.737983465194702 s\n",
      "the accuracy for extracted data set:  65.15726681127983 %\n",
      "----------------------------------------\n",
      "when drop 11 features\n",
      "time cost for extracted data set:  3.722937822341919 s\n",
      "the accuracy for extracted data set:  64.9945770065076 %\n",
      "----------------------------------------\n"
     ]
    }
   ],
   "source": [
    "for feature in low_importance_list:\n",
    "    drop_list_new.append(feature)\n",
    "    extracted_X_train = X_train.drop(labels=drop_list_new,axis=1)\n",
    "    extracted_X_test = X_test.drop(labels=drop_list_new,axis=1)\n",
    "    \n",
    "    time_start = time.time()\n",
    "    rnd_clf.fit(extracted_X_train,y_train)\n",
    "    time_end = time.time()\n",
    "    time_c= time_end - time_start\n",
    "    y_pred = rnd_clf.predict(extracted_X_test)\n",
    "    \n",
    "    print(f'when drop {len(drop_list_new)} features')\n",
    "    print('time cost for extracted data set: ', time_c, 's')\n",
    "    print('the accuracy for extracted data set: ', accuracy_score(y_test,y_pred)*100, '%')\n",
    "    print(\"--\" * 20)"
   ]
  },
  {
   "cell_type": "markdown",
   "id": "0e598691",
   "metadata": {},
   "source": [
    "PCA"
   ]
  },
  {
   "cell_type": "code",
   "execution_count": 28,
   "id": "ab297ab9",
   "metadata": {},
   "outputs": [
    {
     "name": "stdout",
     "output_type": "stream",
     "text": [
      "when dimension is reduced to 15 features, there are 10% information loss\n"
     ]
    },
    {
     "data": {
      "image/png": "[encoded data removed]",
      "text/plain": [
       "<Figure size 432x288 with 1 Axes>"
      ]
     },
     "metadata": {
      "needs_background": "light"
     },
     "output_type": "display_data"
    }
   ],
   "source": [
    "from sklearn.decomposition import PCA\n",
    "pca = PCA()\n",
    "pca.fit(X_train)\n",
    "cumsum = np.cumsum(pca.explained_variance_ratio_)\n",
    "d = np.argmax(cumsum >= 0.90) \n",
    "print(f\"when dimension is reduced to {d} features, there are 10% information loss\")\n",
    "\n",
    "plt.figure(figsize=(6,4))\n",
    "plt.plot(cumsum, linewidth=3)\n",
    "plt.axis([0, 50, 0, 1])\n",
    "plt.xlabel(\"Dimensions\")\n",
    "plt.ylabel(\"Explained Variance\")\n",
    "plt.plot([d, d], [0, 0.9], \"k:\")\n",
    "plt.plot([0, d], [0.9, 0.9], \"k:\")\n",
    "plt.plot(d, 0.9, \"ko\")\n",
    "plt.grid(True)\n",
    "plt.show()"
   ]
  },
  {
   "cell_type": "code",
   "execution_count": 29,
   "id": "70fbed81",
   "metadata": {},
   "outputs": [],
   "source": [
    "pca = PCA(n_components=0.9)\n",
    "train_set_reduced = pca.fit_transform(train_set)\n",
    "\n",
    "reduced_X_train,reduced_X_test,y_train,y_test = train_test_split(train_set_reduced,test_set,test_size=0.2,random_state=42)"
   ]
  },
  {
   "cell_type": "code",
   "execution_count": 30,
   "id": "cc81ebd2",
   "metadata": {},
   "outputs": [
    {
     "name": "stdout",
     "output_type": "stream",
     "text": [
      "time cost for original data set:  5.853222846984863 s\n",
      "the accuracy for original data set:  65.27928416485899 %\n"
     ]
    }
   ],
   "source": [
    "time_start = time.time()\n",
    "ada_clf.fit(X_train,y_train)\n",
    "time_end = time.time()\n",
    "time_c= time_end - time_start\n",
    "y_pred = ada_clf.predict(X_test)\n",
    "\n",
    "print('time cost for original data set: ', time_c, 's')\n",
    "print('the accuracy for original data set: ', accuracy_score(y_test,y_pred)*100, '%')"
   ]
  },
  {
   "cell_type": "code",
   "execution_count": 31,
   "id": "c04c9287",
   "metadata": {},
   "outputs": [
    {
     "name": "stdout",
     "output_type": "stream",
     "text": [
      "time cost for reduced dimension data set:  4.568201541900635 s\n",
      "the accuracy for reduced dimension data set:  63.19143167028199 %\n"
     ]
    }
   ],
   "source": [
    "time_start = time.time()\n",
    "ada_clf.fit(reduced_X_train,y_train)\n",
    "time_end = time.time()\n",
    "time_c= time_end - time_start\n",
    "y_pred = ada_clf.predict(reduced_X_test)\n",
    "\n",
    "print('time cost for reduced dimension data set: ', time_c, 's')\n",
    "print('the accuracy for reduced dimension data set: ', accuracy_score(y_test,y_pred)*100, '%')"
   ]
  },
  {
   "cell_type": "markdown",
   "id": "20e31965",
   "metadata": {},
   "source": [
    "## 3.4   Performance Analysis"
   ]
  },
  {
   "cell_type": "markdown",
   "id": "41a0232f",
   "metadata": {},
   "source": [
    "Confusion Matrix"
   ]
  },
  {
   "cell_type": "code",
   "execution_count": 32,
   "id": "a1157e47",
   "metadata": {},
   "outputs": [
    {
     "data": {
      "text/plain": [
       "array([[1869, 1432],\n",
       "       [1170, 2905]], dtype=int64)"
      ]
     },
     "execution_count": 32,
     "metadata": {},
     "output_type": "execute_result"
    }
   ],
   "source": [
    "from sklearn.metrics import confusion_matrix\n",
    "lr_clf.fit(X_train,y_train)\n",
    "y_pred = lr_clf.predict(X_test)\n",
    "\n",
    "cm = confusion_matrix(y_test, y_pred)\n",
    "cm"
   ]
  },
  {
   "cell_type": "code",
   "execution_count": 33,
   "id": "4a2b0e46",
   "metadata": {},
   "outputs": [
    {
     "data": {
      "image/png": "[encoded data removed]",
      "text/plain": [
       "<Figure size 432x432 with 1 Axes>"
      ]
     },
     "metadata": {
      "needs_background": "light"
     },
     "output_type": "display_data"
    }
   ],
   "source": [
    "classes = [\"bad news\",\"good news\"]\n",
    "fig, ax = plt.subplots(figsize=(6,6))\n",
    "im = ax.imshow(cm, interpolation='nearest', cmap=plt.cm.Blues)\n",
    "ax.set(xticks=np.arange(cm.shape[1]),\n",
    "       yticks=np.arange(cm.shape[0]),\n",
    "       xticklabels=classes, yticklabels=classes,\n",
    "       ylabel='True label',\n",
    "       xlabel='Predicted label')\n",
    "\n",
    "plt.setp(ax.get_xticklabels(), ha=\"right\",rotation_mode=\"anchor\")\n",
    "\n",
    "thresh = cm.max() / 2.\n",
    "for i in range(cm.shape[0]):\n",
    "    for j in range(cm.shape[1]):\n",
    "        ax.text(j, i, format(cm[i, j]),\n",
    "                ha=\"center\", va=\"center\",\n",
    "                color=\"white\" if cm[i, j] > thresh else \"black\",fontsize=15)\n",
    "        \n",
    "ax.text(-0.05, -0.08, 'TN', fontsize = 15,color=\"white\") \n",
    "ax.text(0.95, -0.08, 'FP', fontsize = 15) \n",
    "ax.text(0.95, 0.9, 'TP', fontsize = 15,color=\"white\") \n",
    "ax.text(-0.05, 0.9, 'FN', fontsize = 15) \n",
    "plt.tight_layout()\n",
    "plt.show()"
   ]
  },
  {
   "cell_type": "markdown",
   "id": "77baf115",
   "metadata": {},
   "source": [
    "precision and recall "
   ]
  },
  {
   "cell_type": "code",
   "execution_count": 34,
   "id": "07c82274",
   "metadata": {},
   "outputs": [
    {
     "name": "stdout",
     "output_type": "stream",
     "text": [
      "precision value is  0.6698178464376296\n",
      "recall value is  0.7128834355828221\n",
      "f1 value is  0.690679980979553\n"
     ]
    }
   ],
   "source": [
    "precision = cm[1, 1] / (cm[0, 1] + cm[1, 1])\n",
    "recall = cm[1, 1] / (cm[1, 0] + cm[1, 1])\n",
    "f1 = 2 * (precision * recall) / (precision + recall)\n",
    "\n",
    "print(\"precision value is \", precision)\n",
    "print(\"recall value is \", recall)\n",
    "print(\"f1 value is \", f1)"
   ]
  },
  {
   "cell_type": "markdown",
   "id": "c6b4f42a",
   "metadata": {},
   "source": [
    "verify the calculation"
   ]
  },
  {
   "cell_type": "code",
   "execution_count": 35,
   "id": "a2eff4cf",
   "metadata": {},
   "outputs": [
    {
     "name": "stdout",
     "output_type": "stream",
     "text": [
      "0.6698178464376296\n",
      "0.7128834355828221\n",
      "0.690679980979553\n"
     ]
    }
   ],
   "source": [
    "from sklearn.metrics import precision_score, recall_score,f1_score\n",
    "\n",
    "print(precision_score(y_test, y_pred))\n",
    "print(recall_score(y_test, y_pred))\n",
    "print(f1_score(y_test, y_pred))"
   ]
  },
  {
   "cell_type": "markdown",
   "id": "30992ad7",
   "metadata": {},
   "source": [
    "Threshold Analysis"
   ]
  },
  {
   "cell_type": "code",
   "execution_count": 36,
   "id": "3992adaf",
   "metadata": {},
   "outputs": [
    {
     "data": {
      "image/png": "[encoded data removed]",
      "text/plain": [
       "<Figure size 576x432 with 1 Axes>"
      ]
     },
     "metadata": {
      "needs_background": "light"
     },
     "output_type": "display_data"
    }
   ],
   "source": [
    "precision_value = []\n",
    "recall_value = []\n",
    "model = lr_clf = LogisticRegression(random_state=42, max_iter=1000)\n",
    "model.fit(X_train,y_train)              # use LogisticRegression algorithm \n",
    "\n",
    "for i in np.linspace(0,0.99,50):       # calculate the precision and recall value with different threshold\n",
    "    probas = model.predict_proba(X_test)[:,1:]\n",
    "    predictions = np.where(probas >= i,1,0)   \n",
    "    errors = predictions-y_test.to_numpy().reshape(-1,1)    \n",
    "    fp = np.count_nonzero(errors == 1)\n",
    "    fn = np.count_nonzero(errors == -1)\n",
    "    tp = np.sum(np.where(np.logical_and(errors == 0, predictions == 1),1,0))\n",
    "    tn = np.sum(np.where(np.logical_and(errors == 0, predictions == 0),1,0))\n",
    "    precision = tp / np.sum(tp + fp)\n",
    "    precision_value.append(precision)\n",
    "    recall = tp / np.sum(tp + fn)\n",
    "    recall_value.append(recall)\n",
    "    \n",
    "plt.figure(figsize=(8,6))   # plot the trade off diagramm\n",
    "plt.title(\"Precision/Recall Trade-off\")    \n",
    "plt.plot(np.linspace(0,0.99,50), precision_value ,label=\"precision\",c=\"b\")\n",
    "plt.plot(np.linspace(0,0.99,50), recall_value,label=\"recall\",c=\"r\")\n",
    "plt.xlabel(\"Threshold\")\n",
    "plt.legend()\n",
    "plt.show()"
   ]
  },
  {
   "cell_type": "markdown",
   "id": "bb08e01a",
   "metadata": {},
   "source": [
    "Profit Graph: assume when an article is predicted as good news, the true label is good news, then the company can earn 300 euros, but if true label is bad news, they will lose 250 euros; if an article is predicted as bad news, the true label is good news, then it will lose 50 euros, but if true label is also bad, then no gain no loss."
   ]
  },
  {
   "cell_type": "code",
   "execution_count": 37,
   "id": "24b27980",
   "metadata": {},
   "outputs": [],
   "source": [
    "profit_tp = 300\n",
    "profit_fp = -250\n",
    "profit_fn = -50\n",
    "profit_tn = 0"
   ]
  },
  {
   "cell_type": "code",
   "execution_count": 38,
   "id": "58807fce",
   "metadata": {},
   "outputs": [
    {
     "data": {
      "image/png": "[encoded data removed]",
      "text/plain": [
       "<Figure size 576x432 with 1 Axes>"
      ]
     },
     "metadata": {
      "needs_background": "light"
     },
     "output_type": "display_data"
    }
   ],
   "source": [
    "profits = []\n",
    "for i in np.linspace(0,1,50):\n",
    "    probas = model.predict_proba(X_test)[:,1:]\n",
    "    predictions = np.where(probas >= i,1,0)\n",
    "    \n",
    "    errors = predictions-y_test.to_numpy().reshape(-1,1)\n",
    "    fp = np.count_nonzero(errors == 1)\n",
    "    fn = np.count_nonzero(errors == -1)\n",
    "    tp = np.sum(np.where(np.logical_and(errors == 0, predictions == 1),1,0))\n",
    "    tn = np.sum(np.where(np.logical_and(errors == 0, predictions == 0),1,0))\n",
    "    profits.append(fp*profit_fp+fn*profit_fn+tp*profit_tp+tn*profit_tn)\n",
    "\n",
    "plt.figure(figsize=(8,6))\n",
    "plt.plot(np.linspace(0,1,50), profits,label=\"LogisticRegression Modell\",c=\"g\")\n",
    "plt.xlabel(\"Threshold\")\n",
    "plt.ylabel(\"Profit\")\n",
    "plt.legend()\n",
    "plt.show()"
   ]
  },
  {
   "cell_type": "markdown",
   "id": "09a6f4bf",
   "metadata": {},
   "source": [
    "# 3.5\t Multiclass classification"
   ]
  },
  {
   "cell_type": "markdown",
   "id": "7dbc99c7",
   "metadata": {},
   "source": [
    "RandomForestClassifier"
   ]
  },
  {
   "cell_type": "code",
   "execution_count": 39,
   "id": "19becdd9",
   "metadata": {},
   "outputs": [],
   "source": [
    "share_label = list()\n",
    "share_data = extracted_data['shares']\n",
    "\n",
    "for share in share_data:\n",
    "    if share <= 900:\n",
    "        share_label.append(\"bad\")\n",
    "    elif share > 900 and share <= 1300:\n",
    "        share_label.append(\"sufficient\")\n",
    "    elif share > 1300 and share <= 1800:\n",
    "        share_label.append(\"satisfying\")\n",
    "    elif share > 1800 and share <= 2800:\n",
    "        share_label.append(\"good\")\n",
    "    else:\n",
    "        share_label.append(\"very good\")\n",
    "\n",
    "MultiClass_popularity = pd.DataFrame(share_label, columns=['MultiClass_popularity'])"
   ]
  },
  {
   "cell_type": "code",
   "execution_count": 40,
   "id": "00bbd870",
   "metadata": {},
   "outputs": [],
   "source": [
    "scaler = MinMaxScaler()\n",
    "scaler_list_multi = extracted_data.columns.tolist()\n",
    "final_data_multi = scaler.fit_transform(extracted_data)\n",
    "final_data_multi = pd.DataFrame(extracted_data,columns=scaler_list_multi)\n",
    "\n",
    "\n",
    "data_multi = pd.concat([final_data_multi.reset_index(drop=True), MultiClass_popularity], axis=1)\n",
    "\n",
    "data_multi.drop(labels=[\"popularity\"], axis = 1, inplace=True)"
   ]
  },
  {
   "cell_type": "code",
   "execution_count": 41,
   "id": "5b2cb99d",
   "metadata": {},
   "outputs": [
    {
     "data": {
      "text/plain": [
       "sufficient    9791\n",
       "bad           8699\n",
       "very good     6865\n",
       "satisfying    5954\n",
       "good          5570\n",
       "Name: MultiClass_popularity, dtype: int64"
      ]
     },
     "execution_count": 41,
     "metadata": {},
     "output_type": "execute_result"
    }
   ],
   "source": [
    "data_multi[\"MultiClass_popularity\"].value_counts()"
   ]
  },
  {
   "cell_type": "code",
   "execution_count": 42,
   "id": "b04337fd",
   "metadata": {},
   "outputs": [],
   "source": [
    "train_set_multi = data_multi.drop(labels=[\"MultiClass_popularity\"],axis=1)\n",
    "test_set_multi = data_multi[\"MultiClass_popularity\"]\n",
    "\n",
    "X_train_multi,X_test_multi,y_train_multi,y_test_multi = train_test_split(train_set_multi,test_set_multi,test_size=0.2,random_state=42)"
   ]
  },
  {
   "cell_type": "code",
   "execution_count": 43,
   "id": "b9d7a84f",
   "metadata": {},
   "outputs": [],
   "source": [
    "def confusion_matrix_plot(classes,cm):\n",
    "\n",
    "    fig, ax = plt.subplots(figsize=(6,6))\n",
    "    im = ax.imshow(cm, interpolation='nearest', cmap=plt.cm.Blues)\n",
    "    ax.set(xticks=np.arange(cm.shape[1]),\n",
    "           yticks=np.arange(cm.shape[0]),\n",
    "           # ... and label them with the respective list entries\n",
    "           xticklabels=classes, yticklabels=classes,\n",
    "           ylabel='True label',\n",
    "           xlabel='Predicted label')\n",
    "\n",
    "    plt.setp(ax.get_xticklabels(), ha=\"right\",rotation_mode=\"anchor\")\n",
    "\n",
    "    thresh = cm.max() / 2.\n",
    "    for i in range(cm.shape[0]):\n",
    "        for j in range(cm.shape[1]):\n",
    "            ax.text(j, i, format(cm[i, j]),\n",
    "                    ha=\"center\", va=\"center\",\n",
    "                    color=\"white\" if cm[i, j] > thresh else \"black\",fontsize=15)"
   ]
  },
  {
   "cell_type": "code",
   "execution_count": 44,
   "id": "3a36bc2b",
   "metadata": {},
   "outputs": [
    {
     "data": {
      "image/png": "[encoded data removed]",
      "text/plain": [
       "<Figure size 432x432 with 1 Axes>"
      ]
     },
     "metadata": {
      "needs_background": "light"
     },
     "output_type": "display_data"
    }
   ],
   "source": [
    "from sklearn.ensemble import RandomForestClassifier\n",
    "\n",
    "rnd_clf = RandomForestClassifier(max_leaf_nodes=30, min_samples_split=5, n_estimators=60,random_state=42)\n",
    "rnd_clf.fit(X_train_multi, y_train_multi)\n",
    "\n",
    "y_pred_multi = rnd_clf.predict(X_test_multi)\n",
    "confusion_matrix_rnd = confusion_matrix(y_test_multi, y_pred_multi)\n",
    "\n",
    "classes = [\"very good\",\"good\",\"satisfying\",\"sufficient\",\"bad\",]\n",
    "\n",
    "confusion_matrix_plot(classes,confusion_matrix_rnd)"
   ]
  },
  {
   "cell_type": "markdown",
   "id": "c819d133",
   "metadata": {},
   "source": [
    "SVC without Regularization parameter tuning"
   ]
  },
  {
   "cell_type": "code",
   "execution_count": 45,
   "id": "a7074d3d",
   "metadata": {},
   "outputs": [
    {
     "data": {
      "image/png": "[encoded data removed]",
      "text/plain": [
       "<Figure size 432x432 with 1 Axes>"
      ]
     },
     "metadata": {
      "needs_background": "light"
     },
     "output_type": "display_data"
    }
   ],
   "source": [
    "from sklearn.svm import SVC   # default using OneVsOne method\n",
    "from sklearn.metrics import confusion_matrix\n",
    "\n",
    "#without Regularization parameter tuning\n",
    "\n",
    "svm_clf_ori = SVC()\n",
    "svm_clf_ori.fit(X_train_multi[:8000], y_train_multi[:8000])\n",
    "\n",
    "y_pred_svm = svm_clf_ori.predict(X_test_multi)\n",
    "confusion_matrix_ori = confusion_matrix(y_test_multi, y_pred_svm)\n",
    "\n",
    "confusion_matrix_plot(classes,confusion_matrix_ori)\n",
    "plt.title(\"without Regularization parameter tuning\")\n",
    "plt.show()"
   ]
  },
  {
   "cell_type": "markdown",
   "id": "2561ee1b",
   "metadata": {},
   "source": [
    "SVC with Regularization parameter tuning"
   ]
  },
  {
   "cell_type": "code",
   "execution_count": 46,
   "id": "a726c296",
   "metadata": {},
   "outputs": [
    {
     "data": {
      "image/png": "[encoded data removed]",
      "text/plain": [
       "<Figure size 432x432 with 1 Axes>"
      ]
     },
     "metadata": {
      "needs_background": "light"
     },
     "output_type": "display_data"
    }
   ],
   "source": [
    "svm_clf_opt = SVC(C=500,random_state=42)\n",
    "\n",
    "svm_clf_opt.fit(X_train_multi[:8000], y_train_multi[:8000])\n",
    "\n",
    "y_pred_svm = svm_clf_opt.predict(X_test_multi)\n",
    "confusion_matrix_opt = confusion_matrix(y_test_multi, y_pred_svm)\n",
    "\n",
    "confusion_matrix_plot(classes,confusion_matrix_opt)\n",
    "plt.title(\"with Regularization parameter tuning C=500\")\n",
    "plt.show()"
   ]
  },
  {
   "cell_type": "markdown",
   "id": "ab6efdb7",
   "metadata": {},
   "source": [
    "OneVsOne"
   ]
  },
  {
   "cell_type": "code",
   "execution_count": 47,
   "id": "e51866df",
   "metadata": {},
   "outputs": [
    {
     "data": {
      "text/plain": [
       "Text(0.5, 1.0, 'OneVsOne')"
      ]
     },
     "execution_count": 47,
     "metadata": {},
     "output_type": "execute_result"
    },
    {
     "data": {
      "image/png": "[encoded data removed]",
      "text/plain": [
       "<Figure size 432x432 with 1 Axes>"
      ]
     },
     "metadata": {
      "needs_background": "light"
     },
     "output_type": "display_data"
    }
   ],
   "source": [
    "from sklearn.multiclass import OneVsOneClassifier\n",
    "\n",
    "ovo_clf = OneVsOneClassifier(svm_clf_opt)\n",
    "ovo_clf.fit(X_train_multi[:8000], y_train_multi[:8000])\n",
    "y_pred_ovo = ovo_clf.predict(X_test_multi)\n",
    "confusion_matrix_ovo = confusion_matrix(y_test_multi, y_pred_ovo)\n",
    "\n",
    "confusion_matrix_plot(classes,confusion_matrix_ovo)\n",
    "plt.title(\"OneVsOne\")"
   ]
  },
  {
   "cell_type": "code",
   "execution_count": null,
   "id": "faca8bed",
   "metadata": {},
   "outputs": [],
   "source": []
  }
 ],
 "metadata": {
  "kernelspec": {
   "display_name": "Python 3",
   "language": "python",
   "name": "python3"
  },
  "language_info": {
   "codemirror_mode": {
    "name": "ipython",
    "version": 3
   },
   "file_extension": ".py",
   "mimetype": "text/x-python",
   "name": "python",
   "nbconvert_exporter": "python",
   "pygments_lexer": "ipython3",
   "version": "3.8.8"
  }
 },
 "nbformat": 4,
 "nbformat_minor": 5
}
