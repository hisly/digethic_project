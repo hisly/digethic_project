{
 "cells": [
  {
   "cell_type": "code",
   "execution_count": 1,
   "id": "5cdb9fa6",
   "metadata": {},
   "outputs": [],
   "source": [
    "import numpy as np\n",
    "import pandas as pd\n",
    "import matplotlib.pyplot as plt"
   ]
  },
  {
   "cell_type": "code",
   "execution_count": 2,
   "id": "eeedc9f1",
   "metadata": {},
   "outputs": [],
   "source": [
    "original_data = pd.read_csv(\"OnlineNewsPopularity.csv\")\n",
    "col_names = original_data.columns.tolist()\n",
    "for index,value in enumerate(col_names):\n",
    "    col_names[index]= value.replace(\" \",\"\")\n",
    "    \n",
    "original_data.columns=col_names "
   ]
  },
  {
   "cell_type": "code",
   "execution_count": 3,
   "id": "6134cb9d",
   "metadata": {},
   "outputs": [],
   "source": [
    "drop_list = ['url',\n",
    "             'timedelta',\n",
    "             'n_non_stop_words',\n",
    "             'n_non_stop_unique_tokens',\n",
    "             'weekday_is_monday',\n",
    "             'weekday_is_tuesday',\n",
    "             'weekday_is_wednesday', \n",
    "             'weekday_is_thursday', \n",
    "             'weekday_is_friday',\n",
    "             'weekday_is_saturday', \n",
    "             'weekday_is_sunday',\n",
    "             'kw_max_max',\n",
    "             'kw_max_min',\n",
    "             'kw_max_avg',\n",
    "             'self_reference_min_shares',\n",
    "             'self_reference_max_shares']\n",
    "extracted_data = original_data.drop(labels=drop_list, axis = 1)\n",
    "\n",
    "# 1st quartile (25%)\n",
    "Q1 = np.percentile(extracted_data[\"shares\"], 25)\n",
    "# 3rd quartile (75%)\n",
    "Q3 = np.percentile(extracted_data[\"shares\"], 75)\n",
    "# Interquartile range (IQR)\n",
    "IQR = Q3 - Q1\n",
    "\n",
    "# outlier step\n",
    "outlier_step = 3 * IQR\n",
    "upper_boundary = Q3 + outlier_step\n",
    "extracted_data = extracted_data[extracted_data[\"shares\"] <= upper_boundary]\n",
    "extracted_data.reset_index(drop=True)\n",
    "extracted_data.loc[extracted_data[\"n_unique_tokens\"]==701,\"n_unique_tokens\"] = 0.701\n"
   ]
  },
  {
   "cell_type": "markdown",
   "id": "141bb22a",
   "metadata": {},
   "source": [
    "# 4.1  LinearRegression"
   ]
  },
  {
   "cell_type": "code",
   "execution_count": 4,
   "id": "3ff92ed1",
   "metadata": {},
   "outputs": [],
   "source": [
    "from sklearn.model_selection import train_test_split\n",
    "from sklearn.preprocessing import MinMaxScaler\n",
    "\n",
    "\n",
    "scaler = MinMaxScaler()\n",
    "training_set = extracted_data.drop(labels=[\"shares\"],axis=1)\n",
    "target_set = extracted_data[\"shares\"]\n",
    "\n",
    "scaler_list = training_set.columns.tolist()\n",
    "\n",
    "training_set = scaler.fit_transform(training_set)\n",
    "training_set = pd.DataFrame(training_set,columns=scaler_list)\n",
    "\n",
    "\n",
    "X_train,X_test,y_train,y_test = train_test_split(training_set,target_set,test_size=0.2,random_state=42)"
   ]
  },
  {
   "cell_type": "code",
   "execution_count": 5,
   "id": "6b92db91",
   "metadata": {},
   "outputs": [
    {
     "name": "stdout",
     "output_type": "stream",
     "text": [
      "the root mean squared error is: 348164326599.41876\n"
     ]
    }
   ],
   "source": [
    "from sklearn.linear_model import LinearRegression\n",
    "from sklearn.metrics import mean_squared_error\n",
    "\n",
    "lin_reg = LinearRegression()\n",
    "lin_reg.fit(X_train, y_train)\n",
    "\n",
    "y_pred = lin_reg.predict(X_test)\n",
    "rmse = mean_squared_error(y_pred, y_test,squared=False)\n",
    "print( f\"the root mean squared error is: {rmse}\")"
   ]
  },
  {
   "cell_type": "markdown",
   "id": "263c8717",
   "metadata": {},
   "source": [
    "removing the outliers from Features"
   ]
  },
  {
   "cell_type": "code",
   "execution_count": 6,
   "id": "81ca385d",
   "metadata": {},
   "outputs": [],
   "source": [
    "training_set_new = extracted_data.drop(labels=[\"shares\"],axis=1)\n",
    "\n",
    "\n",
    "training_set_new = training_set_new.mask((training_set_new - training_set_new.mean()).abs() > 2 * training_set_new.std())\n",
    "training_set_new = training_set_new.fillna(training_set_new.mean())\n",
    "training_set_new = scaler.fit_transform(training_set_new)\n",
    "training_set_new = pd.DataFrame(training_set_new,columns=scaler_list)\n",
    "\n",
    "X_train_new,X_test_new,y_train_new,y_test_new = train_test_split(training_set_new,target_set,test_size=0.2,random_state=42)"
   ]
  },
  {
   "cell_type": "code",
   "execution_count": 7,
   "id": "780f9a73",
   "metadata": {},
   "outputs": [
    {
     "name": "stdout",
     "output_type": "stream",
     "text": [
      "the root mean squared error after removing the outliers is: 1502.0854100358795\n"
     ]
    }
   ],
   "source": [
    "lin_reg.fit(X_train_new, y_train_new)\n",
    "\n",
    "y_pred_linear = lin_reg.predict(X_test_new)\n",
    "new_rmse = mean_squared_error(y_pred_linear, y_test_new,squared=False)\n",
    "print( f\"the root mean squared error after removing the outliers is: {new_rmse}\")"
   ]
  },
  {
   "cell_type": "markdown",
   "id": "f5764cf2",
   "metadata": {},
   "source": [
    "Polynomial Regression"
   ]
  },
  {
   "cell_type": "code",
   "execution_count": 8,
   "id": "29753525",
   "metadata": {},
   "outputs": [
    {
     "name": "stdout",
     "output_type": "stream",
     "text": [
      "the root mean squared error with polynomial is: 1507.1793228532115\n"
     ]
    }
   ],
   "source": [
    "from sklearn.preprocessing import PolynomialFeatures\n",
    "\n",
    "poly_features = PolynomialFeatures(degree=2)\n",
    "\n",
    "X_train_poly = poly_features.fit_transform(X_train_new)\n",
    "X_test_poly = poly_features.fit_transform(X_test_new)\n",
    "\n",
    "lin_reg.fit(X_train_poly, y_train_new)\n",
    "y_pred_poly = lin_reg.predict(X_test_poly)\n",
    "rmse = mean_squared_error(y_pred_poly, y_test_new,squared=False)\n",
    "print( f\"the root mean squared error with polynomial is: {rmse}\")"
   ]
  },
  {
   "cell_type": "markdown",
   "id": "33d22ef8",
   "metadata": {},
   "source": [
    "Regularized Linear Models"
   ]
  },
  {
   "cell_type": "code",
   "execution_count": 9,
   "id": "eeda6dd7",
   "metadata": {},
   "outputs": [
    {
     "name": "stdout",
     "output_type": "stream",
     "text": [
      "the root mean squared error with ridge regressor is: 1502.1080608475513\n"
     ]
    }
   ],
   "source": [
    "from sklearn.linear_model import Ridge\n",
    "\n",
    "ridge_reg = Ridge(alpha=1, solver=\"cholesky\", random_state=42)\n",
    "ridge_reg.fit(X_train_new, y_train_new)\n",
    "\n",
    "y_pred_ridge = ridge_reg.predict(X_test_new)\n",
    "rmse = mean_squared_error(y_pred_ridge, y_test_new,squared=False)\n",
    "print( f\"the root mean squared error with ridge regressor is: {rmse}\")"
   ]
  },
  {
   "cell_type": "code",
   "execution_count": 10,
   "id": "cbcecb26",
   "metadata": {},
   "outputs": [
    {
     "name": "stdout",
     "output_type": "stream",
     "text": [
      "the root mean squared error with lasso regressor is: 1502.1833956259707\n"
     ]
    }
   ],
   "source": [
    "from sklearn.linear_model import Lasso\n",
    "\n",
    "lasso_reg = Lasso(alpha=0.1, random_state=42)\n",
    "lasso_reg.fit(X_train_new, y_train_new)\n",
    "\n",
    "y_pred_lasso = lasso_reg.predict(X_test_new)\n",
    "rmse = mean_squared_error(y_pred_lasso, y_test_new,squared=False)\n",
    "print( f\"the root mean squared error with lasso regressor is: {rmse}\")"
   ]
  },
  {
   "cell_type": "markdown",
   "id": "31506b2d",
   "metadata": {},
   "source": [
    "# 4.2 Influence of Dataset size on Training & Test Error"
   ]
  },
  {
   "cell_type": "code",
   "execution_count": 11,
   "id": "8afaa875",
   "metadata": {},
   "outputs": [],
   "source": [
    "def dataset_size_curve(model, X, y):\n",
    "    X_train, X_test, y_train, y_vest = train_test_split(X, y, test_size=0.2, random_state=42)\n",
    "    train_errors, test_errors = [], []\n",
    "    m = 100\n",
    "    while m < (len(X_train) + 1):\n",
    "        model.fit(X_train[:m], y_train[:m])\n",
    "        y_train_predict = model.predict(X_train[:m])\n",
    "        y_test_predict = model.predict(X_test)\n",
    "        train_errors.append(mean_squared_error(y_train[:m], y_train_predict))\n",
    "        test_errors.append(mean_squared_error(y_test, y_test_predict))\n",
    "        m += 1000\n",
    "    plt.plot(np.sqrt(train_errors), \"r-+\", linewidth=2, label=\"train error\")\n",
    "    plt.plot(np.sqrt(test_errors), \"b-\", linewidth=3, label=\"test error\")\n",
    "    plt.legend(loc=\"upper right\", fontsize=14)   \n",
    "    plt.xlabel(\"Training set size\", fontsize=14)\n",
    "    plt.ylabel(\"RMSE\", fontsize=14)              "
   ]
  },
  {
   "cell_type": "code",
   "execution_count": 12,
   "id": "873dc3b9",
   "metadata": {},
   "outputs": [
    {
     "data": {
      "image/png": "[encoded data removed]",
      "text/plain": [
       "<Figure size 432x288 with 1 Axes>"
      ]
     },
     "metadata": {
      "needs_background": "light"
     },
     "output_type": "display_data"
    }
   ],
   "source": [
    "dataset_size_curve(lin_reg, training_set_new, target_set)\n",
    "plt.axis([0, 31, 1250, 1600])           \n",
    "plt.show()      "
   ]
  },
  {
   "cell_type": "markdown",
   "id": "1cd52dd1",
   "metadata": {},
   "source": [
    "# 4.3  Hyperparameter Optimization"
   ]
  },
  {
   "cell_type": "code",
   "execution_count": 13,
   "id": "c45b2a12",
   "metadata": {},
   "outputs": [
    {
     "name": "stdout",
     "output_type": "stream",
     "text": [
      "Fitting 3 folds for each of 18 candidates, totalling 54 fits\n"
     ]
    },
    {
     "data": {
      "text/plain": [
       "RandomForestRegressor(max_depth=8, min_samples_leaf=40, n_estimators=120,\n",
       "                      random_state=42)"
      ]
     },
     "execution_count": 13,
     "metadata": {},
     "output_type": "execute_result"
    }
   ],
   "source": [
    "from sklearn.ensemble import RandomForestRegressor\n",
    "from sklearn.model_selection import GridSearchCV\n",
    "\n",
    "params = {'n_estimators': list(range(100,121,10)), 'min_samples_leaf': list(range(40,47,3)), 'max_depth': [6,8]}\n",
    "grid_search_cv = GridSearchCV(RandomForestRegressor(random_state=42), params, verbose=1, cv=3)\n",
    "grid_search_cv.fit(X_train_new[:10000], y_train_new[:10000])\n",
    "grid_search_cv.best_estimator_"
   ]
  },
  {
   "cell_type": "code",
   "execution_count": 14,
   "id": "26c6fec9",
   "metadata": {},
   "outputs": [
    {
     "name": "stdout",
     "output_type": "stream",
     "text": [
      "the root mean squared error with Regressor hyperparameter turning is 1489.9410884423066\n"
     ]
    }
   ],
   "source": [
    "y_pred_rnd = grid_search_cv.predict(X_test_new)\n",
    "rmse = mean_squared_error(y_pred_rnd, y_test_new,squared=False)\n",
    "print(f\"the root mean squared error with Regressor hyperparameter turning is {rmse}\")"
   ]
  },
  {
   "cell_type": "code",
   "execution_count": 15,
   "id": "65bcea2f",
   "metadata": {},
   "outputs": [
    {
     "name": "stdout",
     "output_type": "stream",
     "text": [
      "the root mean squared error with no hyperparameter turning is 1513.5017377439776\n",
      "the root mean squared error with Classifier hyperparameter turning is 1490.4769664930764\n"
     ]
    }
   ],
   "source": [
    "rnd_ori_para = RandomForestRegressor(random_state=42)\n",
    "rnd_clf_para = RandomForestRegressor(max_depth=8, min_samples_leaf=50, n_estimators=90, random_state=42)\n",
    "\n",
    "rnd_ori_para.fit(X_train_new[:10000], y_train_new[:10000])\n",
    "rnd_clf_para.fit(X_train_new[:10000], y_train_new[:10000])\n",
    "\n",
    "y_pred_ori = rnd_ori_para.predict(X_test_new)\n",
    "y_pred_clf = rnd_clf_para.predict(X_test_new)\n",
    "\n",
    "regressor_list = [\"with no hyperparameter turning\", \"with Classifier hyperparameter turning\"]\n",
    "y_pred_list = [y_pred_ori, y_pred_clf]\n",
    "\n",
    "for regressor, y_pred in zip(regressor_list,y_pred_list):\n",
    "    rmse = mean_squared_error(y_pred, y_test,squared=False)\n",
    "    \n",
    "    print(f\"the root mean squared error {regressor} is {rmse}\")"
   ]
  },
  {
   "cell_type": "markdown",
   "id": "4af8f316",
   "metadata": {},
   "source": [
    "# 4.4  Stacking"
   ]
  },
  {
   "cell_type": "code",
   "execution_count": 16,
   "id": "d38303ca",
   "metadata": {},
   "outputs": [],
   "source": [
    "from sklearn.svm import SVR\n",
    "from sklearn.ensemble import AdaBoostRegressor\n",
    "from sklearn.ensemble import GradientBoostingRegressor\n",
    "from sklearn.model_selection import KFold"
   ]
  },
  {
   "cell_type": "code",
   "execution_count": 17,
   "id": "acdfbd27",
   "metadata": {},
   "outputs": [],
   "source": [
    "# 5 regressors are used for the first layer\n",
    "\n",
    "models=[RandomForestRegressor(max_depth=8, min_samples_leaf=46, n_estimators=110,random_state=42),\n",
    "        AdaBoostRegressor(learning_rate=0.5, n_estimators=80, random_state=42),\n",
    "        SVR(),\n",
    "        GradientBoostingRegressor(n_estimators=110,random_state=42),\n",
    "        Ridge(alpha=1, solver=\"cholesky\", random_state=42)]"
   ]
  },
  {
   "cell_type": "code",
   "execution_count": 18,
   "id": "6089dbb4",
   "metadata": {},
   "outputs": [
    {
     "name": "stdout",
     "output_type": "stream",
     "text": [
      "29503\n",
      "7376\n"
     ]
    }
   ],
   "source": [
    "# the dataset is transformed to ndArray matrix, since in Dataframe and Series the index will be shuffled in KFold and cause unmachting problem\n",
    "\n",
    "x_train = X_train_new.values\n",
    "y_train = y_train_new.values\n",
    "x_test = X_test_new.values\n",
    "y_test = y_test_new.values\n",
    "\n",
    "kf=KFold(n_splits=5)\n",
    "n_train=x_train.shape[0]\n",
    "n_test=x_test.shape[0]           \n",
    "print(n_train)\n",
    "print(n_test)"
   ]
  },
  {
   "cell_type": "markdown",
   "id": "5c39155f",
   "metadata": {},
   "source": [
    "Define a function to return the predicted value as feature.The first return value is the feature of the training set for the second layer model; the second return value is the prediction of the test set by the first layer model, which will be used as the X_test of the training set for the second layer model."
   ]
  },
  {
   "cell_type": "code",
   "execution_count": 19,
   "id": "8644c337",
   "metadata": {},
   "outputs": [],
   "source": [
    "def get_oof(model,x_train,y_train,x_test):\n",
    "    oof_train=np.zeros((n_train,))     # create a 29503 * 1 zero matrix  \n",
    "    oof_test=np.zeros((n_test,))       #create a 7376 * 1 zero matrix  \n",
    "    oof_test_skf=np.zeros((5,n_test))  # 5 * 7376 zero matrix\n",
    "    for i,(train_index,test_index) in enumerate(kf.split(x_train)):\n",
    "        kf_x_train=x_train[train_index]            # 23602 instances from training set in every fold\n",
    "        kf_y_train=y_train[train_index]            # 23602 target values from training set in every fold\n",
    "        kf_x_test=x_train[test_index]              #  5901 instances from test set in every fold\n",
    "        model=model.fit(kf_x_train,kf_y_train)\n",
    "        oof_train[test_index]=model.predict(kf_x_test)        #every fold can give us 5901 prediction values from Kfold，then we can get 29503 predictions for training set\n",
    "        oof_test_skf[i,:]=model.predict(x_test)               #every fold can also give 7376 prediction values from test set.\n",
    "    oof_test[:]=oof_test_skf.mean(axis=0)            #calculate the mean value of 5 times prediction from the test se \n",
    "    return oof_train,oof_test              "
   ]
  },
  {
   "cell_type": "code",
   "execution_count": 20,
   "id": "31117434",
   "metadata": {},
   "outputs": [],
   "source": [
    "number_models=len(models)\n",
    "xtrain_new=np.zeros((n_train,number_models))\n",
    "xtest_new=np.zeros((n_test,number_models))\n",
    "\n",
    "# the output as meta feature will be trained in second layer \n",
    "for i,regressor in enumerate(models):\n",
    "    xtrain_new[:,i],xtest_new[:,i]=get_oof(regressor,x_train,y_train,x_test) "
   ]
  },
  {
   "cell_type": "code",
   "execution_count": 21,
   "id": "e07daa69",
   "metadata": {},
   "outputs": [
    {
     "data": {
      "text/html": [
       "<div>\n",
       "<style scoped>\n",
       "    .dataframe tbody tr th:only-of-type {\n",
       "        vertical-align: middle;\n",
       "    }\n",
       "\n",
       "    .dataframe tbody tr th {\n",
       "        vertical-align: top;\n",
       "    }\n",
       "\n",
       "    .dataframe thead th {\n",
       "        text-align: right;\n",
       "    }\n",
       "</style>\n",
       "<table border=\"1\" class=\"dataframe\">\n",
       "  <thead>\n",
       "    <tr style=\"text-align: right;\">\n",
       "      <th></th>\n",
       "      <th>0</th>\n",
       "      <th>1</th>\n",
       "      <th>2</th>\n",
       "      <th>3</th>\n",
       "      <th>4</th>\n",
       "    </tr>\n",
       "  </thead>\n",
       "  <tbody>\n",
       "    <tr>\n",
       "      <th>0</th>\n",
       "      <td>2075.045395</td>\n",
       "      <td>2964.841065</td>\n",
       "      <td>1398.344827</td>\n",
       "      <td>2039.361555</td>\n",
       "      <td>1956.637421</td>\n",
       "    </tr>\n",
       "    <tr>\n",
       "      <th>1</th>\n",
       "      <td>2392.099039</td>\n",
       "      <td>2893.142397</td>\n",
       "      <td>1353.234486</td>\n",
       "      <td>2367.791394</td>\n",
       "      <td>1934.902312</td>\n",
       "    </tr>\n",
       "    <tr>\n",
       "      <th>2</th>\n",
       "      <td>2375.726598</td>\n",
       "      <td>3017.861569</td>\n",
       "      <td>1496.913724</td>\n",
       "      <td>2620.756481</td>\n",
       "      <td>2357.003408</td>\n",
       "    </tr>\n",
       "    <tr>\n",
       "      <th>3</th>\n",
       "      <td>1467.677248</td>\n",
       "      <td>2220.532612</td>\n",
       "      <td>1181.521401</td>\n",
       "      <td>1491.529684</td>\n",
       "      <td>1903.669717</td>\n",
       "    </tr>\n",
       "    <tr>\n",
       "      <th>4</th>\n",
       "      <td>1949.033519</td>\n",
       "      <td>2400.175031</td>\n",
       "      <td>1204.608386</td>\n",
       "      <td>1713.527779</td>\n",
       "      <td>1824.986944</td>\n",
       "    </tr>\n",
       "    <tr>\n",
       "      <th>...</th>\n",
       "      <td>...</td>\n",
       "      <td>...</td>\n",
       "      <td>...</td>\n",
       "      <td>...</td>\n",
       "      <td>...</td>\n",
       "    </tr>\n",
       "    <tr>\n",
       "      <th>29498</th>\n",
       "      <td>1289.230163</td>\n",
       "      <td>1991.285965</td>\n",
       "      <td>1178.917172</td>\n",
       "      <td>1283.131391</td>\n",
       "      <td>1222.833398</td>\n",
       "    </tr>\n",
       "    <tr>\n",
       "      <th>29499</th>\n",
       "      <td>2007.638607</td>\n",
       "      <td>2876.992553</td>\n",
       "      <td>1325.959616</td>\n",
       "      <td>2008.751715</td>\n",
       "      <td>2183.280494</td>\n",
       "    </tr>\n",
       "    <tr>\n",
       "      <th>29500</th>\n",
       "      <td>1364.185118</td>\n",
       "      <td>2148.467800</td>\n",
       "      <td>1147.881760</td>\n",
       "      <td>1383.008785</td>\n",
       "      <td>1147.514338</td>\n",
       "    </tr>\n",
       "    <tr>\n",
       "      <th>29501</th>\n",
       "      <td>1713.124251</td>\n",
       "      <td>2284.655204</td>\n",
       "      <td>1263.797978</td>\n",
       "      <td>1751.759765</td>\n",
       "      <td>1155.093199</td>\n",
       "    </tr>\n",
       "    <tr>\n",
       "      <th>29502</th>\n",
       "      <td>1720.344804</td>\n",
       "      <td>2382.447442</td>\n",
       "      <td>1417.939307</td>\n",
       "      <td>1830.297473</td>\n",
       "      <td>1845.863522</td>\n",
       "    </tr>\n",
       "  </tbody>\n",
       "</table>\n",
       "<p>29503 rows × 5 columns</p>\n",
       "</div>"
      ],
      "text/plain": [
       "                 0            1            2            3            4\n",
       "0      2075.045395  2964.841065  1398.344827  2039.361555  1956.637421\n",
       "1      2392.099039  2893.142397  1353.234486  2367.791394  1934.902312\n",
       "2      2375.726598  3017.861569  1496.913724  2620.756481  2357.003408\n",
       "3      1467.677248  2220.532612  1181.521401  1491.529684  1903.669717\n",
       "4      1949.033519  2400.175031  1204.608386  1713.527779  1824.986944\n",
       "...            ...          ...          ...          ...          ...\n",
       "29498  1289.230163  1991.285965  1178.917172  1283.131391  1222.833398\n",
       "29499  2007.638607  2876.992553  1325.959616  2008.751715  2183.280494\n",
       "29500  1364.185118  2148.467800  1147.881760  1383.008785  1147.514338\n",
       "29501  1713.124251  2284.655204  1263.797978  1751.759765  1155.093199\n",
       "29502  1720.344804  2382.447442  1417.939307  1830.297473  1845.863522\n",
       "\n",
       "[29503 rows x 5 columns]"
      ]
     },
     "execution_count": 21,
     "metadata": {},
     "output_type": "execute_result"
    }
   ],
   "source": [
    "pd.DataFrame(xtrain_new)  # new features for training data"
   ]
  },
  {
   "cell_type": "code",
   "execution_count": 22,
   "id": "894fb4dd",
   "metadata": {},
   "outputs": [
    {
     "data": {
      "text/html": [
       "<div>\n",
       "<style scoped>\n",
       "    .dataframe tbody tr th:only-of-type {\n",
       "        vertical-align: middle;\n",
       "    }\n",
       "\n",
       "    .dataframe tbody tr th {\n",
       "        vertical-align: top;\n",
       "    }\n",
       "\n",
       "    .dataframe thead th {\n",
       "        text-align: right;\n",
       "    }\n",
       "</style>\n",
       "<table border=\"1\" class=\"dataframe\">\n",
       "  <thead>\n",
       "    <tr style=\"text-align: right;\">\n",
       "      <th></th>\n",
       "      <th>0</th>\n",
       "      <th>1</th>\n",
       "      <th>2</th>\n",
       "      <th>3</th>\n",
       "      <th>4</th>\n",
       "    </tr>\n",
       "  </thead>\n",
       "  <tbody>\n",
       "    <tr>\n",
       "      <th>0</th>\n",
       "      <td>1469.153575</td>\n",
       "      <td>2237.965878</td>\n",
       "      <td>1147.596600</td>\n",
       "      <td>1437.517144</td>\n",
       "      <td>1330.530096</td>\n",
       "    </tr>\n",
       "    <tr>\n",
       "      <th>1</th>\n",
       "      <td>1916.271656</td>\n",
       "      <td>2444.779991</td>\n",
       "      <td>1363.144758</td>\n",
       "      <td>1749.671331</td>\n",
       "      <td>1623.095694</td>\n",
       "    </tr>\n",
       "    <tr>\n",
       "      <th>2</th>\n",
       "      <td>1883.679348</td>\n",
       "      <td>2485.462487</td>\n",
       "      <td>1275.299074</td>\n",
       "      <td>1769.756390</td>\n",
       "      <td>1459.980361</td>\n",
       "    </tr>\n",
       "    <tr>\n",
       "      <th>3</th>\n",
       "      <td>1261.308747</td>\n",
       "      <td>2287.177998</td>\n",
       "      <td>1318.664726</td>\n",
       "      <td>1104.563391</td>\n",
       "      <td>1564.743912</td>\n",
       "    </tr>\n",
       "    <tr>\n",
       "      <th>4</th>\n",
       "      <td>2015.507177</td>\n",
       "      <td>2672.846791</td>\n",
       "      <td>1412.569964</td>\n",
       "      <td>2019.807894</td>\n",
       "      <td>1969.333572</td>\n",
       "    </tr>\n",
       "    <tr>\n",
       "      <th>...</th>\n",
       "      <td>...</td>\n",
       "      <td>...</td>\n",
       "      <td>...</td>\n",
       "      <td>...</td>\n",
       "      <td>...</td>\n",
       "    </tr>\n",
       "    <tr>\n",
       "      <th>7371</th>\n",
       "      <td>2344.282609</td>\n",
       "      <td>2959.448837</td>\n",
       "      <td>1221.421242</td>\n",
       "      <td>2341.591258</td>\n",
       "      <td>1885.883684</td>\n",
       "    </tr>\n",
       "    <tr>\n",
       "      <th>7372</th>\n",
       "      <td>2435.961849</td>\n",
       "      <td>3044.231779</td>\n",
       "      <td>1459.236498</td>\n",
       "      <td>2317.983593</td>\n",
       "      <td>2163.053391</td>\n",
       "    </tr>\n",
       "    <tr>\n",
       "      <th>7373</th>\n",
       "      <td>1997.945586</td>\n",
       "      <td>2538.780874</td>\n",
       "      <td>1482.020072</td>\n",
       "      <td>2055.870060</td>\n",
       "      <td>2166.842416</td>\n",
       "    </tr>\n",
       "    <tr>\n",
       "      <th>7374</th>\n",
       "      <td>2840.548163</td>\n",
       "      <td>2998.807172</td>\n",
       "      <td>1399.889571</td>\n",
       "      <td>2639.089500</td>\n",
       "      <td>2470.309060</td>\n",
       "    </tr>\n",
       "    <tr>\n",
       "      <th>7375</th>\n",
       "      <td>1800.621407</td>\n",
       "      <td>2585.758701</td>\n",
       "      <td>1257.617914</td>\n",
       "      <td>1766.780924</td>\n",
       "      <td>1633.236228</td>\n",
       "    </tr>\n",
       "  </tbody>\n",
       "</table>\n",
       "<p>7376 rows × 5 columns</p>\n",
       "</div>"
      ],
      "text/plain": [
       "                0            1            2            3            4\n",
       "0     1469.153575  2237.965878  1147.596600  1437.517144  1330.530096\n",
       "1     1916.271656  2444.779991  1363.144758  1749.671331  1623.095694\n",
       "2     1883.679348  2485.462487  1275.299074  1769.756390  1459.980361\n",
       "3     1261.308747  2287.177998  1318.664726  1104.563391  1564.743912\n",
       "4     2015.507177  2672.846791  1412.569964  2019.807894  1969.333572\n",
       "...           ...          ...          ...          ...          ...\n",
       "7371  2344.282609  2959.448837  1221.421242  2341.591258  1885.883684\n",
       "7372  2435.961849  3044.231779  1459.236498  2317.983593  2163.053391\n",
       "7373  1997.945586  2538.780874  1482.020072  2055.870060  2166.842416\n",
       "7374  2840.548163  2998.807172  1399.889571  2639.089500  2470.309060\n",
       "7375  1800.621407  2585.758701  1257.617914  1766.780924  1633.236228\n",
       "\n",
       "[7376 rows x 5 columns]"
      ]
     },
     "execution_count": 22,
     "metadata": {},
     "output_type": "execute_result"
    }
   ],
   "source": [
    "pd.DataFrame(xtest_new)  # new features for test data"
   ]
  },
  {
   "cell_type": "code",
   "execution_count": 23,
   "id": "0ad35bb6",
   "metadata": {},
   "outputs": [
    {
     "name": "stdout",
     "output_type": "stream",
     "text": [
      "the root mean squared error with stacking is: 1477.241773650398\n"
     ]
    }
   ],
   "source": [
    "reg = LinearRegression() # use a simply regressor for second layer\n",
    "reg=reg.fit(xtrain_new,y_train) # the predicted values as new feature in second layer\n",
    "y_pred = reg.predict(xtest_new) # the predicted values from test set are averaged and used as new X_test\n",
    "rmse = mean_squared_error(y_pred, y_test,squared=False)\n",
    "print( f\"the root mean squared error with stacking is: {rmse}\")"
   ]
  },
  {
   "cell_type": "code",
   "execution_count": null,
   "id": "da4e50e6",
   "metadata": {},
   "outputs": [],
   "source": []
  }
 ],
 "metadata": {
  "kernelspec": {
   "display_name": "Python 3",
   "language": "python",
   "name": "python3"
  },
  "language_info": {
   "codemirror_mode": {
    "name": "ipython",
    "version": 3
   },
   "file_extension": ".py",
   "mimetype": "text/x-python",
   "name": "python",
   "nbconvert_exporter": "python",
   "pygments_lexer": "ipython3",
   "version": "3.8.8"
  }
 },
 "nbformat": 4,
 "nbformat_minor": 5
}
